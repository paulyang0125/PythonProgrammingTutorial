{
 "cells": [
  {
   "cell_type": "markdown",
   "metadata": {},
   "source": [
    "# (實驗二) 根據天氣, 衣物穿搭建議程式\n",
    "\n",
    "\n",
    " \n",
    "![alt text][logo]\n",
    "[logo]: http://fit7.cn/UploadFiles/20154201617247.png \"Logo Title Text 2\"\n"
   ]
  },
  {
   "cell_type": "markdown",
   "metadata": {},
   "source": [
    "## a. Configuring"
   ]
  },
  {
   "cell_type": "code",
   "execution_count": 1,
   "metadata": {
    "collapsed": true
   },
   "outputs": [],
   "source": [
    "from requests import get\n",
    "from datetime import datetime, timedelta\n",
    "from json import loads\n",
    "from pprint import pprint\n",
    "import time\n",
    "\n",
    "APIKEY = \"6872bed60bffc1bef999a2e3e98c4654\" #apikey_openweathermap\n",
    "\n"
   ]
  },
  {
   "cell_type": "markdown",
   "metadata": {},
   "source": [
    "## b. Get where user is and look up city id accordingly"
   ]
  },
  {
   "cell_type": "code",
   "execution_count": 2,
   "metadata": {
    "collapsed": true
   },
   "outputs": [],
   "source": [
    "def get_city_id_v3():\n",
    "    city_id = False\n",
    "    print('讀取城市地理資訊.......')\n",
    "    with open('openweather_city_list.json',encoding='utf-8') as fd:\n",
    "        data = [loads(line) for line in fd] #convert a JSON object to a dictionary, using the loads method\n",
    "        print('地理資訊讀取完成!')\n",
    "        city = input(\"你準備拜訪哪裡? 請輸入英文城市或地區名\")\n",
    "    for row in data:\n",
    "        if row['name'] == city.title():\n",
    "            answer = input('欲拜訪城市在 ' + row['country'] + '?' + '\\n' + '輸入 y 或 yes 確認')\n",
    "            if answer == 'y' or answer == 'yes' or answer == 'Yes': #OKAY syntax\n",
    "                city_id = row['_id']\n",
    "                break\n",
    "            else:\n",
    "                print('欲拜訪城市' +  + row['name'] + ' 不在 ' + row['country'])\n",
    "    if city_id is False:\n",
    "        print('這地理位址不存在!')      \n",
    "    return city_id"
   ]
  },
  {
   "cell_type": "markdown",
   "metadata": {},
   "source": [
    "## c. Get a 5-Day Forecast from openweathermap"
   ]
  },
  {
   "cell_type": "code",
   "execution_count": 3,
   "metadata": {
    "collapsed": true
   },
   "outputs": [],
   "source": [
    "def get_weather_data(city_id):\n",
    "    access_url = 'http://api.openweathermap.org/data/2.5/forecast?id={0}&APPID={1}'.format(city_id,APIKEY)\n",
    "    print(\"抓取氣象資料從 \", access_url)\n",
    "    weather_data = get(access_url)\n",
    "    print(\"抓取成功!\")\n",
    "    return weather_data.json()\n"
   ]
  },
  {
   "cell_type": "markdown",
   "metadata": {},
   "source": [
    "## d.Get the arrival date and time "
   ]
  },
  {
   "cell_type": "code",
   "execution_count": 4,
   "metadata": {
    "collapsed": false
   },
   "outputs": [],
   "source": [
    "# The date and time from the JSON file is in a specific format, YYYY-MM-DD HH:00:00\n",
    "# ask user what day and hour they plan to arrive at the city\n",
    "\n",
    "def get_arrival():\n",
    "    today = datetime.now()\n",
    "    margin = timedelta(days = 4)\n",
    "    max_day = today + timedelta(days=4) #need to give them a range of dates to choose from.\n",
    "    print('請問你幾月幾號到達目的地?')\n",
    "    day = False\n",
    "    while True:\n",
    "        print(\"請選擇日期從 \" + today.strftime('%d/%m/%y'), '到', max_day.strftime('%d/%m/%y'))\n",
    "        date = input()\n",
    "        date = datetime.strptime(date, \"%d/%m/%y\")\n",
    "        if date.strftime('%d') == today.strftime('%d'):\n",
    "            date += timedelta(hours=23)\n",
    "        if today <= date <= max_day:\n",
    "            break\n",
    "        else:\n",
    "            print(\"你沒有選擇對的日期, 請重新輸入!\")\n",
    "    print('何時到達?')\n",
    "    print('0 - 24')\n",
    "    hour = int(input())\n",
    "    hour = hour - hour % 3 #The forecasts are only once every 3 hours, starting at 00:00:00.\n",
    "    hour = datetime.strptime(str(hour), '%H')\n",
    "    arrival = date.strftime('%Y-%m-%d') + ' ' + hour.strftime('%H') + ':00:00'\n",
    "    print(\"你選擇到達日期與時間:\", arrival)\n",
    "    return arrival\n"
   ]
  },
  {
   "cell_type": "markdown",
   "metadata": {},
   "source": [
    "## e. Get the forecase for the required date and time"
   ]
  },
  {
   "cell_type": "code",
   "execution_count": 5,
   "metadata": {
    "collapsed": true
   },
   "outputs": [],
   "source": [
    "def get_forecast(arrival, weather_data):\n",
    "    forcast = False\n",
    "    for item in weather_data['list']:\n",
    "        if item['dt_txt'] == arrival:\n",
    "            forcast = item\n",
    "            return forcast\n",
    "    if not forcast:\n",
    "        print('對應天氣預報資料不存在!')"
   ]
  },
  {
   "cell_type": "markdown",
   "metadata": {},
   "source": [
    "## f. parse the data in forecase to covert to readable format"
   ]
  },
  {
   "cell_type": "code",
   "execution_count": 6,
   "metadata": {
    "collapsed": false
   },
   "outputs": [],
   "source": [
    "def get_readable_forecast(forecast):\n",
    "    weather = {}\n",
    "    print(forecast['clouds']['all'])\n",
    "    weather['cloudiness'] = forecast['clouds']['all']\n",
    "    weather['temperature'] = float(forecast['main']['temp'])\n",
    "    weather['humidity'] = int(forecast['main']['humidity'])\n",
    "    weather['description'] = forecast['weather'][0]['description'] \n",
    "    weather['wind'] = float(forecast['wind']['speed'])\n",
    "    try:\n",
    "            #if '3h' in forecast['rain']:\n",
    "            weather['rain'] = float(forecast['rain']['3h'])\n",
    "    except:\n",
    "        print('no rain data is available')\n",
    "        weather['rain'] = 0.0\n",
    "        pass\n",
    "    if debug:\n",
    "        print('------------------------------------DEBUG BEGIN--------------------------------------------------')\n",
    "        print('debug: cloudiness is ' + str(weather['cloudiness']))\n",
    "        print('debug: temperature is ' + str(weather['temperature']))\n",
    "        print('debug: humidity is ' + str(weather['humidity']))\n",
    "        print('debug: description is ' + weather['description'])\n",
    "        print('debug: wind is ' + str(weather['wind']))\n",
    "        print('debug: rain is ' + str(weather['rain']))\n",
    "        print('------------------------------------DEBUG END--------------------------------------------------\\n')\n",
    "    return weather"
   ]
  },
  {
   "cell_type": "markdown",
   "metadata": {},
   "source": [
    "## g. to determine what should wear"
   ]
  },
  {
   "cell_type": "code",
   "execution_count": 7,
   "metadata": {
    "collapsed": true
   },
   "outputs": [],
   "source": [
    "# 1. sunny by cloudiness --> a hat or sunglasses\n",
    "# 2. no rain, light rain, moderate rain, heavy rain, and violent rain by degree of rain --> no umbrella, a hood or umbrella, umbrella, \n",
    "# an umbrella and a waterproof top and life-jacket\n",
    "# 3. freezing, cold, not too cold and hot by temperature --> a heavy coat, a coat or thick jumper, light jumper, Shorts and T-shirt weather\n",
    "# 4. wind, light breeze, calm by wind --> a jacket, long sleeves, nothing to worry"
   ]
  },
  {
   "cell_type": "code",
   "execution_count": 8,
   "metadata": {
    "collapsed": true
   },
   "outputs": [],
   "source": [
    "def get_clothes(weather):\n",
    "    print('------------------------------------穿搭推薦結果--------------------------------------------------')\n",
    "    print('大致天氣狀況為 {}'.format(weather['description']))\n",
    "    # determine by cloudiness\n",
    "    if weather['cloudiness'] < 10:\n",
    "        print('天氣晴朗無雲, 也許需要帶帽子或太陽眼鏡')\n",
    "    # determine by rain\n",
    "    if weather['rain'] == 0 or weather['rain'] == 0.0 :\n",
    "        print(\"當天不太可能下雨, 可以不用帶傘出門\")\n",
    "    elif weather['rain']/3 < 2.5:\n",
    "        print(\"當天可能會下毛毛雨, 可以考慮帶傘或穿著帽T出門\")\n",
    "    elif weather['rain']/3 < 7.6:\n",
    "        print(\"當天可能會下陣雨, 請帶傘出門\")\n",
    "    elif weather['rain']/3 < 50:\n",
    "        print(\"當天可能會下大雨, 請帶傘與穿著防水衣物出門\")\n",
    "    elif weather['rain']/3 > 50:\n",
    "        print(\"當天可能會有超級大雨, 也許考慮穿著救生衣\")\n",
    "    # determine by temperature\n",
    "    if weather['temperature'] < 273:\n",
    "        print(\"當天氣溫極低, 請穿著保暖厚重大衣\")\n",
    "    elif weather['temperature'] < 283:\n",
    "        print(\"當天氣溫偏冷, 請穿著外套或保暖毛衣\")\n",
    "    elif weather['temperature'] < 293:\n",
    "        print(\"當天氣溫沒有很冷, 也許可穿著輕便長袖\")\n",
    "    elif weather['temperature'] < 303:\n",
    "        print(\"當天天氣嚴熱, 穿著短袖短褲\")\n",
    "    # determine by wind\n",
    "    if weather['wind'] > 30:\n",
    "        print(\"當天風大, 也許可穿著防風外套\")\n",
    "    elif weather['wind'] > 10:\n",
    "        print(\"當天會起微微的風, 也許可穿著防風衣物\")\n",
    "    else:\n",
    "        print(\"當天是個沒風的日子, 不需要穿著防風衣物\")\n",
    "    \n",
    "    print('------------------------------------結束-----------------------------------------------------------')"
   ]
  },
  {
   "cell_type": "markdown",
   "metadata": {},
   "source": [
    "## h. test and finish "
   ]
  },
  {
   "cell_type": "code",
   "execution_count": 9,
   "metadata": {
    "collapsed": false
   },
   "outputs": [
    {
     "name": "stdout",
     "output_type": "stream",
     "text": [
      "讀取城市地理資訊.......\n",
      "地理資訊讀取完成!\n",
      "你準備拜訪哪裡? 請輸入英文城市或地區名taiwan\n",
      "欲拜訪城市在 TW?\n",
      "輸入 y 或 yes 確認y\n",
      "抓取氣象資料從  http://api.openweathermap.org/data/2.5/forecast?id=1668284&APPID=6872bed60bffc1bef999a2e3e98c4654\n",
      "抓取成功!\n",
      "請問你幾月幾號到達目的地?\n",
      "請選擇日期從 08/06/16 到 12/06/16\n",
      "09/06/16\n",
      "何時到達?\n",
      "0 - 24\n",
      "18\n",
      "你選擇到達日期與時間: 2016-06-09 18:00:00\n",
      "92\n",
      "------------------------------------DEBUG BEGIN--------------------------------------------------\n",
      "debug: cloudiness is 92\n",
      "debug: temperature is 290.934\n",
      "debug: humidity is 96\n",
      "debug: description is light rain\n",
      "debug: wind is 0.42\n",
      "debug: rain is 1.68\n",
      "------------------------------------DEBUG END--------------------------------------------------\n",
      "\n",
      "------------------------------------穿搭推薦結果--------------------------------------------------\n",
      "大致天氣狀況為 light rain\n",
      "當天可能會下毛毛雨, 可以考慮帶傘或穿著帽T出門\n",
      "當天氣溫沒有很冷, 也許可穿著輕便長袖\n",
      "當天是個沒風的日子, 不需要穿著防風衣物\n",
      "------------------------------------結束-----------------------------------------------------------\n"
     ]
    }
   ],
   "source": [
    "def main():\n",
    "    global debug \n",
    "    debug = True\n",
    "    city_id = get_city_id_v3()\n",
    "    weather_data = get_weather_data(city_id)\n",
    "    arrival = get_arrival()\n",
    "    forecast = get_forecast(arrival, weather_data)\n",
    "    weather = get_readable_forecast(forecast)\n",
    "    get_clothes(weather)\n",
    "\n",
    "main()"
   ]
  },
  {
   "cell_type": "code",
   "execution_count": null,
   "metadata": {
    "collapsed": true
   },
   "outputs": [],
   "source": []
  },
  {
   "cell_type": "code",
   "execution_count": null,
   "metadata": {
    "collapsed": true
   },
   "outputs": [],
   "source": []
  }
 ],
 "metadata": {
  "kernelspec": {
   "display_name": "Python 3",
   "language": "python",
   "name": "python3"
  },
  "language_info": {
   "codemirror_mode": {
    "name": "ipython",
    "version": 3
   },
   "file_extension": ".py",
   "mimetype": "text/x-python",
   "name": "python",
   "nbconvert_exporter": "python",
   "pygments_lexer": "ipython3",
   "version": "3.4.2"
  }
 },
 "nbformat": 4,
 "nbformat_minor": 0
}
