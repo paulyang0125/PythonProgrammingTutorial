{
 "cells": [
  {
   "cell_type": "markdown",
   "metadata": {},
   "source": [
    "## 1. READ source - do things like /opt/vc/bin/vcgencmd measure_temp"
   ]
  },
  {
   "cell_type": "code",
   "execution_count": 10,
   "metadata": {
    "collapsed": false
   },
   "outputs": [
    {
     "name": "stdout",
     "output_type": "stream",
     "text": [
      "0 time to capture\n",
      "temp=37.9'C\n",
      "sleep at 2 seconds\n",
      "\n",
      "1 time to capture\n",
      "temp=35.8'C\n",
      "sleep at 2 seconds\n",
      "\n",
      "2 time to capture\n",
      "temp=38.2'C\n",
      "sleep at 2 seconds\n",
      "\n",
      "3 time to capture\n",
      "temp=38.1'C\n",
      "sleep at 2 seconds\n",
      "\n",
      "4 time to capture\n",
      "temp=38.5'Csleep at 2 seconds\n",
      "\n"
     ]
    }
   ],
   "source": [
    "from sys import argv\n",
    "import time\n",
    "capture_times = 5\n",
    "time_interval = 2\n",
    "with open('test_source.txt','r') as f:\n",
    "    for i in range(capture_times): #http://pythoncentral.io/pythons-range-function-explained/ http://www.pythonforbeginners.com/files/reading-and-writing-files-in-python\n",
    "        print(str(i) + \" time to capture\")\n",
    "        print(f.readline(),end=\"\")\n",
    "        print(\"sleep at %d seconds\" % time_interval, end=\"\\n\\n\")\n",
    "        time.sleep(time_interval)\n",
    "        \n",
    "        \n",
    "        \n",
    "\n",
    "    "
   ]
  },
  {
   "cell_type": "code",
   "execution_count": 13,
   "metadata": {
    "collapsed": false
   },
   "outputs": [],
   "source": [
    "import datetime\n",
    "import os\n",
    "now = datetime.datetime.now()"
   ]
  },
  {
   "cell_type": "code",
   "execution_count": 14,
   "metadata": {
    "collapsed": false
   },
   "outputs": [
    {
     "data": {
      "text/plain": [
       "datetime.datetime(2016, 5, 6, 18, 28, 37, 433670)"
      ]
     },
     "execution_count": 14,
     "metadata": {},
     "output_type": "execute_result"
    }
   ],
   "source": [
    "now"
   ]
  },
  {
   "cell_type": "code",
   "execution_count": 15,
   "metadata": {
    "collapsed": true
   },
   "outputs": [],
   "source": [
    "timeString = now.strftime(\"%Y-%m-%d %H:%M:%S\")"
   ]
  },
  {
   "cell_type": "code",
   "execution_count": 16,
   "metadata": {
    "collapsed": false
   },
   "outputs": [
    {
     "data": {
      "text/plain": [
       "'2016-05-06 18:28:37'"
      ]
     },
     "execution_count": 16,
     "metadata": {},
     "output_type": "execute_result"
    }
   ],
   "source": [
    "timeString"
   ]
  },
  {
   "cell_type": "code",
   "execution_count": 18,
   "metadata": {
    "collapsed": false
   },
   "outputs": [
    {
     "name": "stdout",
     "output_type": "stream",
     "text": [
      "0 time to capture\n",
      "sleep at 2 seconds\n",
      "\n",
      "1 time to capture\n",
      "sleep at 2 seconds\n",
      "\n",
      "2 time to capture\n",
      "sleep at 2 seconds\n",
      "\n",
      "3 time to capture\n",
      "sleep at 2 seconds\n",
      "\n",
      "4 time to capture\n",
      "sleep at 2 seconds\n",
      "\n"
     ]
    }
   ],
   "source": [
    "capture_times = 5\n",
    "time_interval = 2\n",
    "with open('test_source.txt','r') as f1:\n",
    "    mylist= []\n",
    "    f2 = open('result.log','w')\n",
    "    for i in range(capture_times): #http://pythoncentral.io/pythons-range-function-explained/ http://www.pythonforbeginners.com/files/reading-and-writing-files-in-python\n",
    "        print(str(i) + \" time to capture\")\n",
    "        #print(f1.readline(),end=\"\")\n",
    "        now = datetime.datetime.now()\n",
    "        timeString = now.strftime(\"%Y-%m-%d %H:%M:%S\")\n",
    "        mylist.append(timeString + \"  \" + f1.readline())\n",
    "        print(\"sleep at %d seconds\" % time_interval, end=\"\\n\\n\") #http://stackoverflow.com/questions/12102749/how-can-i-suppress-the-newline-after-a-print-statement\n",
    "        time.sleep(time_interval)\n",
    "\n",
    "    f2.writelines(mylist)\n",
    "    f2.close()\n",
    "\n",
    "    "
   ]
  },
  {
   "cell_type": "markdown",
   "metadata": {},
   "source": [
    "## 2 write into DB"
   ]
  },
  {
   "cell_type": "code",
   "execution_count": 37,
   "metadata": {
    "collapsed": true
   },
   "outputs": [],
   "source": [
    "import sqlite3 #http://pythoncentral.io/introduction-to-sqlite-in-python/"
   ]
  },
  {
   "cell_type": "code",
   "execution_count": 24,
   "metadata": {
    "collapsed": false
   },
   "outputs": [
    {
     "data": {
      "text/plain": [
       "float"
      ]
     },
     "execution_count": 24,
     "metadata": {},
     "output_type": "execute_result"
    }
   ],
   "source": [
    "sqlite3.version\n",
    "\n",
    "dtime = datetime.datetime.now()\n",
    "ans_time = time.mktime(dtime.timetuple())\n",
    "type(ans_time)"
   ]
  },
  {
   "cell_type": "code",
   "execution_count": 29,
   "metadata": {
    "collapsed": false
   },
   "outputs": [
    {
     "name": "stdout",
     "output_type": "stream",
     "text": [
      "Opened database successfully\n",
      "Table created successfully\n"
     ]
    }
   ],
   "source": [
    "conn = sqlite3.connect('test.db')\n",
    "print ('Opened database successfully')\n",
    "conn.execute('''CREATE TABLE SOC_TEMP(id INTEGER PRIMARY KEY NOT NULL, time REAL, temp TEXT)''')\n",
    "print('Table created successfully')\n",
    "conn.commit()\n",
    "conn.close()"
   ]
  },
  {
   "cell_type": "code",
   "execution_count": 30,
   "metadata": {
    "collapsed": false
   },
   "outputs": [
    {
     "data": {
      "text/plain": [
       "<sqlite3.Cursor at 0x1c7c17ca3b0>"
      ]
     },
     "execution_count": 30,
     "metadata": {},
     "output_type": "execute_result"
    }
   ],
   "source": [
    "dtime = datetime.datetime.now()\n",
    "ans_time = time.mktime(dtime.timetuple())\n",
    "temp = 'temp=37.9\\'C'\n",
    "\n",
    "cursor = sqlite3.connect('test.db')\n",
    "\n",
    "cursor.execute('''INSERT INTO SOC_TEMP(time,temp)VALUES(?,?)''',(ans_time,temp))"
   ]
  },
  {
   "cell_type": "code",
   "execution_count": 31,
   "metadata": {
    "collapsed": false
   },
   "outputs": [
    {
     "data": {
      "text/plain": [
       "<sqlite3.Cursor at 0x1c7c1777f80>"
      ]
     },
     "execution_count": 31,
     "metadata": {},
     "output_type": "execute_result"
    }
   ],
   "source": [
    "cursor.execute('''INSERT INTO SOC_TEMP(time,temp)VALUES(?,?)''',(ans_time,'temp=34.9\\'C'))\n",
    "cursor.execute('''INSERT INTO SOC_TEMP(time,temp)VALUES(?,?)''',(ans_time,'temp=36.1\\'C'))"
   ]
  },
  {
   "cell_type": "code",
   "execution_count": 32,
   "metadata": {
    "collapsed": true
   },
   "outputs": [],
   "source": [
    "cursor.commit()\n",
    "cursor.close()"
   ]
  },
  {
   "cell_type": "code",
   "execution_count": 33,
   "metadata": {
    "collapsed": false
   },
   "outputs": [
    {
     "data": {
      "text/plain": [
       "1462533449.0"
      ]
     },
     "execution_count": 33,
     "metadata": {},
     "output_type": "execute_result"
    }
   ],
   "source": [
    "ans_time"
   ]
  },
  {
   "cell_type": "code",
   "execution_count": 35,
   "metadata": {
    "collapsed": false
   },
   "outputs": [
    {
     "data": {
      "text/plain": [
       "datetime.datetime(2016, 5, 6, 19, 17, 29)"
      ]
     },
     "execution_count": 35,
     "metadata": {},
     "output_type": "execute_result"
    }
   ],
   "source": [
    "datetime.datetime.fromtimestamp(ans_time)"
   ]
  },
  {
   "cell_type": "code",
   "execution_count": 36,
   "metadata": {
    "collapsed": false
   },
   "outputs": [
    {
     "data": {
      "text/plain": [
       "'2016-05-06 19:17:29'"
      ]
     },
     "execution_count": 36,
     "metadata": {},
     "output_type": "execute_result"
    }
   ],
   "source": [
    "datetime.datetime.fromtimestamp(ans_time).strftime(\"%Y-%m-%d %H:%M:%S\")"
   ]
  },
  {
   "cell_type": "code",
   "execution_count": 42,
   "metadata": {
    "collapsed": false
   },
   "outputs": [],
   "source": [
    "## read db\n",
    "conn= sqlite3.connect('test.db')\n",
    "cursor = conn.execute('''select * from t1 where strftime('%Y-%m-%d %H:%M:%S', datetime(time, 'unixepoch'))  <  datetime('now','-1 hours')''')\n"
   ]
  },
  {
   "cell_type": "code",
   "execution_count": 43,
   "metadata": {
    "collapsed": false
   },
   "outputs": [
    {
     "name": "stdout",
     "output_type": "stream",
     "text": [
      "(1, 1462535571, 'foo')\n"
     ]
    }
   ],
   "source": [
    "for c in cursor:\n",
    "    print(c)"
   ]
  },
  {
   "cell_type": "code",
   "execution_count": 46,
   "metadata": {
    "collapsed": true
   },
   "outputs": [],
   "source": [
    "cursor = conn.execute('''select * from t1 where strftime('%Y-%m-%d %H:%M:%S', datetime(time, 'unixepoch'))  >  datetime('now','-1 hours')''')"
   ]
  },
  {
   "cell_type": "code",
   "execution_count": 45,
   "metadata": {
    "collapsed": false
   },
   "outputs": [
    {
     "name": "stdout",
     "output_type": "stream",
     "text": [
      "(2, 1462536627, 'bar')\n",
      "(3, 1462536627, 'sss')\n",
      "(4, 1462536628, 'bar')\n",
      "(5, 1462536628, 'sss')\n",
      "(6, 1462536630, 'bar')\n",
      "(7, 1462536630, 'sss')\n",
      "(8, 1462536635, 'bar')\n",
      "(9, 1462536635, 'sss')\n"
     ]
    }
   ],
   "source": [
    "for c in cursor:\n",
    "    print(c)"
   ]
  },
  {
   "cell_type": "code",
   "execution_count": 47,
   "metadata": {
    "collapsed": true
   },
   "outputs": [],
   "source": [
    "all_rows = cursor.fetchall()"
   ]
  },
  {
   "cell_type": "code",
   "execution_count": 48,
   "metadata": {
    "collapsed": false
   },
   "outputs": [
    {
     "name": "stdout",
     "output_type": "stream",
     "text": [
      "[(2, 1462536627, 'bar'), (3, 1462536627, 'sss'), (4, 1462536628, 'bar'), (5, 1462536628, 'sss'), (6, 1462536630, 'bar'), (7, 1462536630, 'sss'), (8, 1462536635, 'bar'), (9, 1462536635, 'sss')]\n"
     ]
    }
   ],
   "source": [
    "print(all_rows)"
   ]
  },
  {
   "cell_type": "code",
   "execution_count": 58,
   "metadata": {
    "collapsed": true
   },
   "outputs": [],
   "source": [
    "conn.close()"
   ]
  },
  {
   "cell_type": "code",
   "execution_count": 93,
   "metadata": {
    "collapsed": false
   },
   "outputs": [
    {
     "name": "stdout",
     "output_type": "stream",
     "text": [
      "database locked\n",
      "0 time to capture\n",
      "sleep at 2 seconds\n",
      "\n",
      "1 time to capture\n",
      "sleep at 2 seconds\n",
      "\n",
      "2 time to capture\n",
      "sleep at 2 seconds\n",
      "\n",
      "3 time to capture\n",
      "sleep at 2 seconds\n",
      "\n",
      "4 time to capture\n",
      "sleep at 2 seconds\n",
      "\n"
     ]
    }
   ],
   "source": [
    "creat_script = '''CREATE table soc_temp_new( id integer primary key, time timestamp,temp text)'''\n",
    "test = '''CREATE table soc_temp_new( id integer primary key, time timestamp default (strftime('%s', 'now', 'localtime')),temp text)'''\n",
    "\n",
    "conn=sqlite3.connect('test2.db',timeout=1)\n",
    "try:\n",
    "    conn.execute(test)\n",
    "\n",
    "except sqlite3.OperationalError:\n",
    "    print(\"database locked\")\n",
    "    #num_users=len(res)\n",
    "conn.commit()\n",
    "    \n",
    "    \n",
    "    ## revision to db\n",
    "#conn = sqlite3.connect('test.db',timeout=1)\n",
    "#create tab \n",
    "#conn.execute('''CREATE table soc_temp_new( id integer primary key, time timestamp default (strftime('%s', 'now')),txt text)''')\n",
    "#conn.commit()\n",
    "\n",
    "\n",
    "\n",
    "\n",
    "capture_times = 5\n",
    "time_interval = 2\n",
    "with open('test_source.txt','r') as f1:\n",
    "    for i in range(capture_times): \n",
    "        print(str(i) + \" time to capture\")\n",
    "        dtime = datetime.datetime.now()\n",
    "        ans_time = time.mktime(dtime.timetuple())\n",
    "        conn.execute('''INSERT INTO soc_temp_new(time,temp)VALUES(?,?)''',(ans_time, f1.readline()))\n",
    "        print(\"sleep at %d seconds\" % time_interval, end=\"\\n\\n\") #http://stackoverflow.com/questions/12102749/how-can-i-suppress-the-newline-after-a-print-statement\n",
    "        time.sleep(time_interval)\n",
    "\n",
    "    conn.commit()\n",
    "    conn.close()\n",
    "    \n"
   ]
  },
  {
   "cell_type": "code",
   "execution_count": null,
   "metadata": {
    "collapsed": true
   },
   "outputs": [],
   "source": []
  },
  {
   "cell_type": "code",
   "execution_count": 94,
   "metadata": {
    "collapsed": false
   },
   "outputs": [
    {
     "name": "stdout",
     "output_type": "stream",
     "text": [
      "1 : 2016-05-06 22:20:36, temp=37.9'C\n",
      "2 : 2016-05-06 22:20:38, temp=35.8'C\n",
      "3 : 2016-05-06 22:20:40, temp=38.2'C\n",
      "4 : 2016-05-06 22:20:42, temp=38.1'C\n",
      "5 : 2016-05-06 22:20:44, temp=38.5'C"
     ]
    }
   ],
   "source": [
    "\n",
    "insert1 = '''select * from soc_temp_new'''\n",
    "conn=sqlite3.connect('test2.db',timeout=1)\n",
    "cursor = conn.execute(insert1)\n",
    "all_rows = cursor.fetchall()\n",
    "for row in all_rows:\n",
    "    print('{0} : {1}, {2}'.format(row[0], datetime.datetime.fromtimestamp(row[1]).strftime(\"%Y-%m-%d %H:%M:%S\"), row[2]), end=\"\")\n",
    "    \n",
    "\n"
   ]
  },
  {
   "cell_type": "code",
   "execution_count": 103,
   "metadata": {
    "collapsed": false
   },
   "outputs": [
    {
     "name": "stdout",
     "output_type": "stream",
     "text": [
      "1 : 2016-05-06 22:20:36, temp=37.9'C\n",
      "2 : 2016-05-06 22:20:38, temp=35.8'C\n",
      "3 : 2016-05-06 22:20:40, temp=38.2'C\n",
      "4 : 2016-05-06 22:20:42, temp=38.1'C\n",
      "5 : 2016-05-06 22:20:44, temp=38.5'C"
     ]
    }
   ],
   "source": [
    "insert = '''select * from soc_temp_new where strftime('%Y-%m-%d %H:%M:%S', datetime(time, \n",
    "'unixepoch','localtime'))  >  datetime('now','localtime','-2 hours')'''\n",
    "conn=sqlite3.connect('test2.db',timeout=1)\n",
    "cursor = conn.execute(insert)\n",
    "all_rows = cursor.fetchall()\n",
    "for row in all_rows:\n",
    "    print('{0} : {1}, {2}'.format(row[0], datetime.datetime.fromtimestamp(row[1]).strftime(\"%Y-%m-%d %H:%M:%S\"), row[2]), end=\"\")"
   ]
  },
  {
   "cell_type": "code",
   "execution_count": 104,
   "metadata": {
    "collapsed": true
   },
   "outputs": [],
   "source": [
    "conn.close()"
   ]
  },
  {
   "cell_type": "code",
   "execution_count": 105,
   "metadata": {
    "collapsed": false
   },
   "outputs": [
    {
     "ename": "IndentationError",
     "evalue": "expected an indented block (<ipython-input-105-6e48f4990028>, line 7)",
     "output_type": "error",
     "traceback": [
      "\u001b[1;36m  File \u001b[1;32m\"<ipython-input-105-6e48f4990028>\"\u001b[1;36m, line \u001b[1;32m7\u001b[0m\n\u001b[1;33m    def capture_log():\u001b[0m\n\u001b[1;37m      ^\u001b[0m\n\u001b[1;31mIndentationError\u001b[0m\u001b[1;31m:\u001b[0m expected an indented block\n"
     ]
    }
   ],
   "source": [
    "\n",
    "\n",
    "def setup_db():\n",
    "    \n",
    "\n",
    "\n",
    "def capture_log():\n",
    "    "
   ]
  },
  {
   "cell_type": "markdown",
   "metadata": {
    "collapsed": true
   },
   "source": [
    "## TEST FILE AND DB"
   ]
  },
  {
   "cell_type": "code",
   "execution_count": 1,
   "metadata": {
    "collapsed": true
   },
   "outputs": [],
   "source": [
    "import os"
   ]
  },
  {
   "cell_type": "code",
   "execution_count": 2,
   "metadata": {
    "collapsed": false
   },
   "outputs": [
    {
     "ename": "NameError",
     "evalue": "name '__file__' is not defined",
     "output_type": "error",
     "traceback": [
      "\u001b[1;31m---------------------------------------------------------------------------\u001b[0m",
      "\u001b[1;31mNameError\u001b[0m                                 Traceback (most recent call last)",
      "\u001b[1;32m<ipython-input-2-b81f43380c75>\u001b[0m in \u001b[0;36m<module>\u001b[1;34m()\u001b[0m\n\u001b[1;32m----> 1\u001b[1;33m \u001b[0mos\u001b[0m\u001b[1;33m.\u001b[0m\u001b[0mpath\u001b[0m\u001b[1;33m.\u001b[0m\u001b[0mabspath\u001b[0m\u001b[1;33m(\u001b[0m\u001b[0m__file__\u001b[0m\u001b[1;33m)\u001b[0m\u001b[1;33m\u001b[0m\u001b[0m\n\u001b[0m",
      "\u001b[1;31mNameError\u001b[0m: name '__file__' is not defined"
     ]
    }
   ],
   "source": [
    "os.path.abspath(__file__)"
   ]
  },
  {
   "cell_type": "code",
   "execution_count": 3,
   "metadata": {
    "collapsed": false
   },
   "outputs": [
    {
     "data": {
      "text/plain": [
       "'C:\\\\Users\\\\paulyang\\\\Desktop\\\\開發中商業\\\\Teaching\\\\Python_Teachings\\\\InProcessing\\\\demo2\\\\projects\\\\projects_day4\\\\officialProj\\\\soc_temp'"
      ]
     },
     "execution_count": 3,
     "metadata": {},
     "output_type": "execute_result"
    }
   ],
   "source": [
    "os.getcwd()"
   ]
  },
  {
   "cell_type": "code",
   "execution_count": 6,
   "metadata": {
    "collapsed": false
   },
   "outputs": [
    {
     "data": {
      "text/plain": [
       "False"
      ]
     },
     "execution_count": 6,
     "metadata": {},
     "output_type": "execute_result"
    }
   ],
   "source": [
    "TEMP_LOG = 'temp.log'\n",
    "os.path.exists(os.getcwd() + '\\\\' + TEMP_LOG )"
   ]
  },
  {
   "cell_type": "code",
   "execution_count": 5,
   "metadata": {
    "collapsed": false
   },
   "outputs": [
    {
     "data": {
      "text/plain": [
       "'C:\\\\Users\\\\paulyang\\\\Desktop\\\\開發中商業\\\\Teaching\\\\Python_Teachings\\\\InProcessing\\\\demo2\\\\projects\\\\projects_day4\\\\officialProj\\\\soc_temp//temp.log'"
      ]
     },
     "execution_count": 5,
     "metadata": {},
     "output_type": "execute_result"
    }
   ],
   "source": [
    "os.getcwd() + '\\\\' + TEMP_LOG"
   ]
  },
  {
   "cell_type": "code",
   "execution_count": 7,
   "metadata": {
    "collapsed": false
   },
   "outputs": [
    {
     "ename": "NameError",
     "evalue": "name 'DB_NAME' is not defined",
     "output_type": "error",
     "traceback": [
      "\u001b[1;31m---------------------------------------------------------------------------\u001b[0m",
      "\u001b[1;31mNameError\u001b[0m                                 Traceback (most recent call last)",
      "\u001b[1;32m<ipython-input-7-996175170339>\u001b[0m in \u001b[0;36m<module>\u001b[1;34m()\u001b[0m\n\u001b[1;32m----> 1\u001b[1;33m \u001b[0mdo_create\u001b[0m \u001b[1;33m=\u001b[0m \u001b[1;32mnot\u001b[0m \u001b[0mos\u001b[0m\u001b[1;33m.\u001b[0m\u001b[0mpath\u001b[0m\u001b[1;33m.\u001b[0m\u001b[0mexists\u001b[0m\u001b[1;33m(\u001b[0m\u001b[0mDB_NAME\u001b[0m\u001b[1;33m)\u001b[0m\u001b[1;33m\u001b[0m\u001b[0m\n\u001b[0m",
      "\u001b[1;31mNameError\u001b[0m: name 'DB_NAME' is not defined"
     ]
    }
   ],
   "source": [
    "do_create = not os.path.exists(DB_NAME)"
   ]
  },
  {
   "cell_type": "code",
   "execution_count": 8,
   "metadata": {
    "collapsed": true
   },
   "outputs": [],
   "source": [
    "DB_NAME = os.getcwd() + '\\\\' + 'my_db.sqlite'"
   ]
  },
  {
   "cell_type": "code",
   "execution_count": 9,
   "metadata": {
    "collapsed": true
   },
   "outputs": [],
   "source": [
    "do_create = not os.path.exists(DB_NAME)"
   ]
  },
  {
   "cell_type": "code",
   "execution_count": 10,
   "metadata": {
    "collapsed": false
   },
   "outputs": [
    {
     "data": {
      "text/plain": [
       "True"
      ]
     },
     "execution_count": 10,
     "metadata": {},
     "output_type": "execute_result"
    }
   ],
   "source": [
    "do_create"
   ]
  },
  {
   "cell_type": "markdown",
   "metadata": {
    "collapsed": true
   },
   "source": [
    "# test DB select for temp capture\n"
   ]
  },
  {
   "cell_type": "code",
   "execution_count": 2,
   "metadata": {
    "collapsed": false
   },
   "outputs": [],
   "source": [
    "import datetime\n",
    "import os\n",
    "import time\n",
    "import sqlite3### test database select\n",
    "\n",
    "DB_NAME = os.getcwd() + '\\\\' + 'my_db.sqlite'"
   ]
  },
  {
   "cell_type": "code",
   "execution_count": 3,
   "metadata": {
    "collapsed": false
   },
   "outputs": [
    {
     "data": {
      "text/plain": [
       "'C:\\\\Users\\\\paulyang\\\\Desktop\\\\\\xb6}\\xb5o\\xa4\\xa4\\xb0\\xd3\\xb7~\\\\Teaching\\\\Python_Teachings\\\\InProcessing\\\\demo2\\\\projects\\\\projects_day4\\\\officialProj\\\\soc_temp\\\\my_db.sqlite'"
      ]
     },
     "execution_count": 3,
     "metadata": {},
     "output_type": "execute_result"
    }
   ],
   "source": [
    "DB_NAME"
   ]
  },
  {
   "cell_type": "code",
   "execution_count": 5,
   "metadata": {
    "collapsed": false
   },
   "outputs": [
    {
     "ename": "SyntaxError",
     "evalue": "invalid syntax (<ipython-input-5-7d934303f52f>, line 7)",
     "output_type": "error",
     "traceback": [
      "\u001b[1;36m  File \u001b[1;32m\"<ipython-input-5-7d934303f52f>\"\u001b[1;36m, line \u001b[1;32m7\u001b[0m\n\u001b[1;33m    print('{0} : {1}, {2}'.format(row[0], datetime.datetime.fromtimestamp(row[1]).strftime(\"%Y-%m-%d %H:%M:%S\"), row[2]), end=\"\")\u001b[0m\n\u001b[1;37m                                                                                                                             ^\u001b[0m\n\u001b[1;31mSyntaxError\u001b[0m\u001b[1;31m:\u001b[0m invalid syntax\n"
     ]
    }
   ],
   "source": [
    "select = '''select * from soc_temp_new where strftime('%Y-%m-%d %H:%M:%S', datetime(time, \n",
    "'unixepoch','localtime'))  >  datetime('now','localtime','-2 hours')'''\n",
    "conn=sqlite3.connect(DB_NAME,timeout=1)\n",
    "cursor = conn.execute(select)\n",
    "all_rows = cursor.fetchall()\n",
    "for row in all_rows:\n",
    "    print('{0} : {1}, {2}'.format(row[0], datetime.datetime.fromtimestamp(row[1]).strftime(\"%Y-%m-%d %H:%M:%S\"), row[2]), end=\"\")"
   ]
  },
  {
   "cell_type": "code",
   "execution_count": null,
   "metadata": {
    "collapsed": true
   },
   "outputs": [],
   "source": []
  }
 ],
 "metadata": {
  "kernelspec": {
   "display_name": "Python 2",
   "language": "python",
   "name": "python2"
  },
  "language_info": {
   "codemirror_mode": {
    "name": "ipython",
    "version": 2
   },
   "file_extension": ".py",
   "mimetype": "text/x-python",
   "name": "python",
   "nbconvert_exporter": "python",
   "pygments_lexer": "ipython2",
   "version": "2.7.11"
  }
 },
 "nbformat": 4,
 "nbformat_minor": 0
}
