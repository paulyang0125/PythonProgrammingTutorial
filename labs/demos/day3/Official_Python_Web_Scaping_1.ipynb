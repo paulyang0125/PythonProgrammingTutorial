{
 "cells": [
  {
   "cell_type": "markdown",
   "metadata": {},
   "source": [
    "# Python Programming 4-days class\n",
    "## Web Scraping with Python\n",
    "\n",
    "Author: Paul Yang\n",
    "Date: June, 2016 \n",
    "\n",
    "\n",
    "\n",
    "\n"
   ]
  },
  {
   "cell_type": "markdown",
   "metadata": {},
   "source": [
    "### Retrieving HTML data"
   ]
  },
  {
   "cell_type": "code",
   "execution_count": null,
   "metadata": {
    "collapsed": false
   },
   "outputs": [],
   "source": [
    "from urllib.request import urlopen\n",
    "import urllib\n",
    "html = urllib.request.urlopen(\"http://google.com\")\n",
    "print(html.read())\n"
   ]
  },
  {
   "cell_type": "code",
   "execution_count": null,
   "metadata": {
    "collapsed": false
   },
   "outputs": [],
   "source": [
    "from urllib.request import urlopen\n",
    "import urllib\n",
    "html = urllib.request.urlopen(\"http://localhost:5000/\")\n",
    "print(html.read())"
   ]
  },
  {
   "cell_type": "markdown",
   "metadata": {},
   "source": [
    "### BeautifulSoup"
   ]
  },
  {
   "cell_type": "code",
   "execution_count": null,
   "metadata": {
    "collapsed": false
   },
   "outputs": [],
   "source": [
    "from urllib.request import urlopen\n",
    "from bs4 import BeautifulSoup as bs\n",
    "html = urllib.request.urlopen(\"http://localhost:5000/static/demo1.html\")\n",
    "bsObj = bs(html.read(),\"html.parser\")\n",
    "print(bsObj.h1)"
   ]
  },
  {
   "cell_type": "code",
   "execution_count": null,
   "metadata": {
    "collapsed": false
   },
   "outputs": [],
   "source": [
    "type(bsObj.h1)"
   ]
  },
  {
   "cell_type": "code",
   "execution_count": null,
   "metadata": {
    "collapsed": false
   },
   "outputs": [],
   "source": [
    "html = urllib.request.urlopen(\"http://localhost:5000/static/demo1.html\")\n",
    "html.read()"
   ]
  },
  {
   "cell_type": "markdown",
   "metadata": {},
   "source": [
    "### Connecting Reliably"
   ]
  },
  {
   "cell_type": "code",
   "execution_count": null,
   "metadata": {
    "collapsed": false
   },
   "outputs": [],
   "source": [
    "# first situation (HTTP error)\n",
    "from urllib.error import HTTPError\n",
    "try:\n",
    "    htmlConn = urlopen(\"http://localhost:5000/static/demo1.html\")\n",
    "except HTTPError as e:\n",
    "    print(e)\n",
    "    #return null, break, or do some other \"Plan B\"\n",
    "else:\n",
    "    #program continues. Note: If you return or break in the\n",
    "    #exception catch, you do not need to use the \"else\" statement\n",
    "    bsObj = bs(htmlConn.read(),\"html.parser\")\n",
    "    print(bsObj.h1)"
   ]
  },
  {
   "cell_type": "code",
   "execution_count": null,
   "metadata": {
    "collapsed": false
   },
   "outputs": [],
   "source": [
    "# second situation (the server is not found at all like down, get None)\n",
    "htmlConn = urlopen(\"http://localhost:5000/static/de1.html\")\n",
    "if htmlConn is None: #If the server is not found at all urlopen returns a None object. This object is analogous to null in other programming languages.\n",
    "    print(\"URL is not found\")\n",
    "else:\n",
    "    #program continues\n",
    "    pass"
   ]
  },
  {
   "cell_type": "code",
   "execution_count": null,
   "metadata": {
    "collapsed": false
   },
   "outputs": [],
   "source": [
    "## the third situation (the tag dooesn't exist, it presents None object \n",
    "html = urlopen(\"http://localhost:5000/static/demo1.html\")\n",
    "bsObj = bs(htmlConn.read(),\"html.parser\")\n",
    "print(bsObj.fooTag)\n",
    "print(bsObj.fooTag.someTag)"
   ]
  },
  {
   "cell_type": "code",
   "execution_count": null,
   "metadata": {
    "collapsed": false
   },
   "outputs": [],
   "source": [
    "try:#guard against these two situations\n",
    "    badContent = bsObj.foo.anotherTag\n",
    "except AttributeError as e:\n",
    "    print(\"Tag was not found\")\n",
    "else:\n",
    "    if badContent == None:\n",
    "        print(\"Tag was not found\")\n",
    "    else:\n",
    "        print(badContent)"
   ]
  },
  {
   "cell_type": "markdown",
   "metadata": {},
   "source": [
    "### More on scaping "
   ]
  },
  {
   "cell_type": "code",
   "execution_count": null,
   "metadata": {
    "collapsed": false
   },
   "outputs": [],
   "source": [
    "from urllib.request import urlopen\n",
    "from urllib.error import HTTPError\n",
    "from bs4 import BeautifulSoup as bs\n",
    "htmlConn = urlopen(\"http://localhost:5000/static/demo2.html\")\n",
    "bsObj = bs(htmlConn,\"html.parser\")\n",
    "name_list = bsObj.findAll(\"span\",{\"class\":\"green\"})\n"
   ]
  },
  {
   "cell_type": "code",
   "execution_count": null,
   "metadata": {
    "collapsed": false
   },
   "outputs": [],
   "source": [
    "type(name_list)"
   ]
  },
  {
   "cell_type": "code",
   "execution_count": null,
   "metadata": {
    "collapsed": false
   },
   "outputs": [],
   "source": [
    "name_list"
   ]
  },
  {
   "cell_type": "code",
   "execution_count": null,
   "metadata": {
    "collapsed": false
   },
   "outputs": [],
   "source": [
    "for n in name_list:\n",
    "    print(type(n))\n",
    "    print(type(n.string))\n",
    "    print(type(n.get_text()))"
   ]
  },
  {
   "cell_type": "code",
   "execution_count": null,
   "metadata": {
    "collapsed": false
   },
   "outputs": [],
   "source": [
    "for n in name_list:\n",
    "    print(n.get_text())"
   ]
  },
  {
   "cell_type": "code",
   "execution_count": null,
   "metadata": {
    "collapsed": false
   },
   "outputs": [],
   "source": [
    "nameList = bsObj.findAll(text=\"the prince\")\n",
    "print(len(nameList))"
   ]
  },
  {
   "cell_type": "code",
   "execution_count": null,
   "metadata": {
    "collapsed": false
   },
   "outputs": [],
   "source": [
    "from urllib.request import urlopen\n",
    "from urllib.error import HTTPError\n",
    "from bs4 import BeautifulSoup as bs\n",
    "htmlConn = urlopen(\"http://localhost:5000/static/demo1.html\")\n",
    "bsObj = bs(htmlConn,\"html.parser\")\n",
    "name_list = bsObj.findAll({'h1','h2','h3'})\n",
    "print(name_list)"
   ]
  },
  {
   "cell_type": "markdown",
   "metadata": {},
   "source": [
    "### DEMOS of children and other descendants and siblings, parents"
   ]
  },
  {
   "cell_type": "code",
   "execution_count": null,
   "metadata": {
    "collapsed": false
   },
   "outputs": [],
   "source": [
    "htmlConn = urlopen(\"http://localhost:5000/static/demo3.html\")\n",
    "bsObj = bs(htmlConn,\"html.parser\")\n",
    "name_list = bsObj.find('table',{'id':\"giftList\"}).children\n"
   ]
  },
  {
   "cell_type": "code",
   "execution_count": null,
   "metadata": {
    "collapsed": false
   },
   "outputs": [],
   "source": [
    "bsObj.find('table',{'id':\"giftList\"}).children"
   ]
  },
  {
   "cell_type": "code",
   "execution_count": null,
   "metadata": {
    "collapsed": false
   },
   "outputs": [],
   "source": [
    "for c in bsObj.find('table',{'id':\"giftList\"}).children:\n",
    "    print(type(c))\n",
    "    print(c)"
   ]
  },
  {
   "cell_type": "code",
   "execution_count": null,
   "metadata": {
    "collapsed": false
   },
   "outputs": [],
   "source": [
    "for c in bsObj.find('table',{'id':\"giftList\"}).descendants:\n",
    "    print(type(c))\n",
    "    print(c)"
   ]
  },
  {
   "cell_type": "code",
   "execution_count": null,
   "metadata": {
    "collapsed": false
   },
   "outputs": [],
   "source": [
    "for sibling in bsObj.find(\"table\",{\"id\":\"giftList\"}).tr.next_siblings:\n",
    "    print(sibling)"
   ]
  },
  {
   "cell_type": "code",
   "execution_count": null,
   "metadata": {
    "collapsed": false
   },
   "outputs": [],
   "source": [
    "htmlConn = urlopen(\"http://localhost:5000/static/demo3.html\")\n",
    "bsObj = bs(htmlConn,\"html.parser\")\n",
    "print(bsObj.find(\"img\",{\"src\":\"./demo3_files/img1.jpg\"}).parent.previous_sibling.get_text())\n"
   ]
  },
  {
   "cell_type": "code",
   "execution_count": null,
   "metadata": {
    "collapsed": false
   },
   "outputs": [],
   "source": [
    "import re\n",
    "html = urlopen(\"http://localhost:5000/static/demo3.html\")\n",
    "bsObj = bs(html,\"html.parser\")\n",
    "images = bsObj.findAll(\"img\", {\"src\":re.compile(\"\\.*\\img.*\\.jpg\")})\n",
    "for image in images:\n",
    "    print(image[\"src\"])"
   ]
  },
  {
   "cell_type": "markdown",
   "metadata": {},
   "source": []
  }
 ],
 "metadata": {
  "kernelspec": {
   "display_name": "Python 3",
   "language": "python",
   "name": "python3"
  },
  "language_info": {
   "codemirror_mode": {
    "name": "ipython",
    "version": 3
   },
   "file_extension": ".py",
   "mimetype": "text/x-python",
   "name": "python",
   "nbconvert_exporter": "python",
   "pygments_lexer": "ipython3",
   "version": "3.4.2"
  }
 },
 "nbformat": 4,
 "nbformat_minor": 0
}
