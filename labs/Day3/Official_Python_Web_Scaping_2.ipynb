{
 "cells": [
  {
   "cell_type": "markdown",
   "metadata": {},
   "source": [
    "# Python Programming 4-days class\n",
    "## Web Scraping with Python\n",
    "Author: Paul Yang\n",
    "Date: June, 2016 "
   ]
  },
  {
   "cell_type": "markdown",
   "metadata": {},
   "source": [
    "## Storing the information"
   ]
  },
  {
   "cell_type": "code",
   "execution_count": null,
   "metadata": {
    "collapsed": true
   },
   "outputs": [],
   "source": [
    "from urllib.request import urlopen\n",
    "from urllib.request import urlretrieve\n",
    "import urllib\n",
    "from bs4 import BeautifulSoup as bs\n",
    "from urllib.error import HTTPError"
   ]
  },
  {
   "cell_type": "code",
   "execution_count": null,
   "metadata": {
    "collapsed": false
   },
   "outputs": [],
   "source": [
    "#This works well if you only need to download a single file and know what to call it and what the file extension is.\n",
    "html = urlopen(\"http://www.tutorialspoint.com/python/\")\n",
    "baseURL = 'http://www.tutorialspoint.com'\n",
    "bsObj = bs(html,\"html.parser\")\n",
    "imageLocation = bsObj.find(\"a\", {\"title\": \"tutorialspoint\"}).find(\"img\")[\"src\"]\n",
    "imageLocation = baseURL + imageLocation\n",
    "urlretrieve (imageLocation, \"logo.jpg\")"
   ]
  },
  {
   "cell_type": "code",
   "execution_count": null,
   "metadata": {
    "collapsed": false
   },
   "outputs": [],
   "source": [
    "imageLocation"
   ]
  },
  {
   "cell_type": "markdown",
   "metadata": {},
   "source": [
    "### CSV"
   ]
  },
  {
   "cell_type": "code",
   "execution_count": null,
   "metadata": {
    "collapsed": false
   },
   "outputs": [],
   "source": [
    "import csv\n",
    "filename = \"test.csv\"\n",
    "try:\n",
    "    csvFile = open(filename, 'w')\n",
    "    writer = csv.writer(csvFile,lineterminator='\\n')\n",
    "    writer.writerow(('數字', '數字加2', '數字乘2'))\n",
    "    for i in range(10):\n",
    "        writer.writerow((i, i+2, i*2))\n",
    "except csv.Error as e:\n",
    "        print('file %s, line %d: %s' % (filename, writer.line_num, e))\n",
    "finally:\n",
    "    csvFile.close()"
   ]
  },
  {
   "cell_type": "code",
   "execution_count": null,
   "metadata": {
    "collapsed": false
   },
   "outputs": [],
   "source": [
    "import csv\n",
    "from urllib.request import urlopen\n",
    "from bs4 import BeautifulSoup\n",
    "filename = \"editors.csv\"\n",
    "html = urlopen(\"http://en.wikipedia.org/wiki/Comparison_of_text_editors\")\n",
    "bsObj = BeautifulSoup(html,\"html.parser\")\n",
    "#The main comparison table is currently the first table on the page\n",
    "table = bsObj.findAll(\"table\",{\"class\":\"wikitable\"})[0]\n",
    "rows = table.findAll(\"tr\")\n",
    "csvFile = open(filename, 'w')\n",
    "writer = csv.writer(csvFile,lineterminator='\\n')\n",
    "try:\n",
    "    for row in rows:\n",
    "        csvRow = []\n",
    "        for cell in row.findAll(['th','td']):\n",
    "            csvRow.append(cell.get_text().encode('utf-8'))\n",
    "        writer.writerow(csvRow)\n",
    "finally:\n",
    "    csvFile.close()"
   ]
  },
  {
   "cell_type": "code",
   "execution_count": null,
   "metadata": {
    "collapsed": true
   },
   "outputs": [],
   "source": [
    "filename = \"editors1.csv\"\n",
    "html = urlopen(\"http://en.wikipedia.org/wiki/Comparison_of_text_editors\")\n",
    "bsObj = BeautifulSoup(html,\"html.parser\")\n",
    "table = bsObj.findAll(\"table\",{\"class\":\"wikitable\"})[0]\n",
    "rows = table.findAll(\"tr\")\n",
    "\n",
    "    \n",
    "\n"
   ]
  },
  {
   "cell_type": "code",
   "execution_count": null,
   "metadata": {
    "collapsed": false
   },
   "outputs": [],
   "source": [
    "rows[3].findAll(['th','td'])[2]"
   ]
  },
  {
   "cell_type": "code",
   "execution_count": null,
   "metadata": {
    "collapsed": false
   },
   "outputs": [],
   "source": [
    "a[0].findAll('th')[3].get_text()"
   ]
  },
  {
   "cell_type": "code",
   "execution_count": null,
   "metadata": {
    "collapsed": false
   },
   "outputs": [],
   "source": [
    "#outputs\n",
    "\"\"\"baseUrl: http://tutorialspoint.com\n",
    "source:  /theme/js/script-min-v4.js\n",
    "source:  theme/js/script-min-v4.js\n",
    "url2:  http://tutorialspoint.com/theme/js/script-min-v4.js\n",
    "fileUrl: http://tutorialspoint.com/theme/js/script-min-v4.js\n",
    "http://tutorialspoint.com/theme/js/script-min-v4.js\n",
    "1.path:  http://tutorialspoint.com/theme/js/script-min-v4.js\n",
    "2.path:  http://tutorialspoint.com/theme/js/script-min-v4.js\n",
    "3.path:  /theme/js/script-min-v4.js\n",
    "4.directory:  downloaded/theme/js\"\"\""
   ]
  },
  {
   "cell_type": "markdown",
   "metadata": {},
   "source": [
    "## some advanced topics"
   ]
  },
  {
   "cell_type": "code",
   "execution_count": null,
   "metadata": {
    "collapsed": false
   },
   "outputs": [],
   "source": [
    "import requests\n",
    "params = {'firstname': 'Paul', 'lastname': 'Mitchell'}\n",
    "r = requests.post(\"http://localhost:5000/demo_submit_form_1\", data=params)\n",
    "print(r.text)\n"
   ]
  },
  {
   "cell_type": "code",
   "execution_count": null,
   "metadata": {
    "collapsed": false
   },
   "outputs": [],
   "source": [
    "import requests\n",
    "params = {'firstname': 'Paul', 'lastname': 'Yang'}\n",
    "r = requests.get(\"http://localhost:5000/demo_submit_form_1\", params=params)\n",
    "print(r.text)\n"
   ]
  },
  {
   "cell_type": "code",
   "execution_count": null,
   "metadata": {
    "collapsed": false
   },
   "outputs": [],
   "source": [
    "import requests\n",
    "files = {'file': open('./upload/apple_store.jpg', 'rb')}\n",
    "r = requests.post(\"http://localhost:5000/upload\",files=files)\n",
    "print(r.text)\n"
   ]
  },
  {
   "cell_type": "code",
   "execution_count": null,
   "metadata": {
    "collapsed": false
   },
   "outputs": [],
   "source": [
    "import requests\n",
    "params = {'username': 'Ryan', 'password': 'password'}\n",
    "r = requests.post(\"http://pythonscraping.com/pages/cookies/welcome.php\", params)\n",
    "print(\"Cookie is set to:\")\n",
    "print(r.cookies.get_dict())\n",
    "print(\"-----------\")\n",
    "print(\"Going to profile page...\")\n",
    "r = requests.get(\"http://pythonscraping.com/pages/cookies/profile.php\",cookies=r.cookies)\n",
    "print(r.text)"
   ]
  },
  {
   "cell_type": "code",
   "execution_count": null,
   "metadata": {
    "collapsed": false
   },
   "outputs": [],
   "source": [
    "import requests\n",
    "session = requests.Session()\n",
    "params = {'username': 'username', 'password': 'password'}\n",
    "s = session.post(\"http://pythonscraping.com/pages/cookies/welcome.php\", params)\n",
    "print(\"Cookie is set to:\")\n",
    "print(s.cookies.get_dict())\n",
    "print(\"-----------\")\n",
    "print(\"Going to profile page...\")\n",
    "s = session.get(\"http://pythonscraping.com/pages/cookies/profile.php\")\n",
    "print(s.text)\n"
   ]
  },
  {
   "cell_type": "code",
   "execution_count": null,
   "metadata": {
    "collapsed": false
   },
   "outputs": [],
   "source": [
    "import requests\n",
    "from requests.auth import AuthBase\n",
    "from requests.auth import HTTPBasicAuth\n",
    "auth = HTTPBasicAuth('ryan', 'password')\n",
    "r = requests.post(url=\"http://pythonscraping.com/pages/auth/login.php\", auth=\n",
    "auth)\n",
    "print(r.text)"
   ]
  },
  {
   "cell_type": "code",
   "execution_count": null,
   "metadata": {
    "collapsed": false
   },
   "outputs": [],
   "source": [
    "import json\n",
    "from urllib.request import urlopen\n",
    "def getCountry(ipAddress):\n",
    "    response = urlopen(\"http://freegeoip.net/json/\"+ipAddress).read().decode('utf-8')\n",
    "    responseJson = json.loads(response)\n",
    "    return responseJson.get(\"country_code\")\n",
    "print(getCountry(\"50.78.253.58\"))"
   ]
  },
  {
   "cell_type": "code",
   "execution_count": null,
   "metadata": {
    "collapsed": true
   },
   "outputs": [],
   "source": [
    "import json\n",
    "parsed_json = json.loads(json_string) # can now be used as a normal dictionary:"
   ]
  },
  {
   "cell_type": "code",
   "execution_count": null,
   "metadata": {
    "collapsed": false
   },
   "outputs": [],
   "source": [
    "import  json\n",
    "obj =  [[ 1 , 2 , 3 ], 123 , 123.123 , 'abc' ,{ 'key1' :( 1 , 2 , 3 ), 'key2' :( 4 , 5 , 6 )}]\n",
    "encodedjson =  json.dumps(obj)\n",
    "print(repr(obj))\n",
    "print(encodedjson)"
   ]
  }
 ],
 "metadata": {
  "kernelspec": {
   "display_name": "Python 3",
   "language": "python",
   "name": "python3"
  },
  "language_info": {
   "codemirror_mode": {
    "name": "ipython",
    "version": 3
   },
   "file_extension": ".py",
   "mimetype": "text/x-python",
   "name": "python",
   "nbconvert_exporter": "python",
   "pygments_lexer": "ipython3",
   "version": "3.4.2"
  }
 },
 "nbformat": 4,
 "nbformat_minor": 0
}
