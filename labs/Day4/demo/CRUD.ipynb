{
 "cells": [
  {
   "cell_type": "markdown",
   "metadata": {},
   "source": [
    "# HEADER"
   ]
  },
  {
   "cell_type": "code",
   "execution_count": null,
   "metadata": {
    "collapsed": true
   },
   "outputs": [],
   "source": [
    "# create SQL table in the traditional way\n",
    "\n",
    "import sqlite3\n",
    "conn = sqlite3.connect('restaurantmenu.db')\n",
    "\n",
    "## PROCESSS \n",
    "\n",
    "\n",
    "\n",
    "\n"
   ]
  },
  {
   "cell_type": "markdown",
   "metadata": {},
   "source": [
    "## SQLite PROCESSS \n",
    "\n",
    "1. connect to databse  \n",
    "2. get the cursor - cur = con.cursor() \n",
    "3. execute sql \n",
    "- create\n",
    "- query data (SELECT)\n",
    "   - row cursor   \n",
    "         - fetchone --> row\n",
    "         - fetchall() --> rows\n",
    "         - If there is no more data left, it returns None\n",
    "   - dictionary cursor --> con.row_factory = lite.Row\n",
    "          - fetchall()\n",
    "              - use forloop and get by \"key\" - row[\"Id\"], row[\"Name\"], row[\"Price\"]\n",
    "          - fetchone \n",
    "          \n",
    "    - add data (INSERT INTO)\n",
    "4. commit\n",
    "\n",
    "5. UPDATE\n",
    "6. DELETE\n",
    "7. Parameterized queries - We use placeholders instead of directly writing the values into the statements. Parameterized queries increase security and   performance.\n",
    "    - \"UPDATE Cars SET Price=? WHERE Id=?\", (uPrice, uId)\n",
    "    - \"SELECT Name, Price FROM Cars WHERE Id=:Id\", {\"Id\": uId}\n",
    "\n",
    "\n",
    "8. Export and import of data\n"
   ]
  },
  {
   "cell_type": "markdown",
   "metadata": {},
   "source": [
    "## create SQL table in the traditional way"
   ]
  },
  {
   "cell_type": "code",
   "execution_count": null,
   "metadata": {
    "collapsed": false
   },
   "outputs": [],
   "source": [
    "conn.execute( '''CREATE TABLE restaurant (id INTEGER PRIMARY KEY ASC, name varchar(250) NOT NULL)''')"
   ]
  },
  {
   "cell_type": "code",
   "execution_count": null,
   "metadata": {
    "collapsed": false
   },
   "outputs": [],
   "source": [
    "conn.execute( '''CREATE TABLE menu_item (id INTEGER PRIMARY KEY ASC, name varchar(250), description varchar(250) NOT NULL, \\ \n",
    "restaurant_id INTEGER NOT NULL, FOREIGN KEY(restaurant_id) REFERENCES restaurant(id))''')"
   ]
  },
  {
   "cell_type": "code",
   "execution_count": null,
   "metadata": {
    "collapsed": true
   },
   "outputs": [],
   "source": [
    "conn.commit()"
   ]
  },
  {
   "cell_type": "code",
   "execution_count": null,
   "metadata": {
    "collapsed": true
   },
   "outputs": [],
   "source": [
    "conn.close()"
   ]
  },
  {
   "cell_type": "markdown",
   "metadata": {},
   "source": [
    "## setup database/table in the ORM way"
   ]
  },
  {
   "cell_type": "code",
   "execution_count": 2,
   "metadata": {
    "collapsed": false
   },
   "outputs": [
    {
     "name": "stdout",
     "output_type": "stream",
     "text": [
      "2016-06-21 22:21:10,370 INFO sqlalchemy.engine.base.Engine SELECT CAST('test plain returns' AS VARCHAR(60)) AS anon_1\n",
      "2016-06-21 22:21:10,373 INFO sqlalchemy.engine.base.Engine ()\n",
      "2016-06-21 22:21:10,375 INFO sqlalchemy.engine.base.Engine SELECT CAST('test unicode returns' AS VARCHAR(60)) AS anon_1\n",
      "2016-06-21 22:21:10,377 INFO sqlalchemy.engine.base.Engine ()\n",
      "2016-06-21 22:21:10,379 INFO sqlalchemy.engine.base.Engine PRAGMA table_info(\"menu_item\")\n",
      "2016-06-21 22:21:10,381 INFO sqlalchemy.engine.base.Engine ()\n",
      "2016-06-21 22:21:10,383 INFO sqlalchemy.engine.base.Engine PRAGMA table_info(\"restaurant\")\n",
      "2016-06-21 22:21:10,385 INFO sqlalchemy.engine.base.Engine ()\n",
      "2016-06-21 22:21:10,387 INFO sqlalchemy.engine.base.Engine \n",
      "CREATE TABLE restaurant (\n",
      "\tid INTEGER NOT NULL, \n",
      "\tname VARCHAR(80) NOT NULL, \n",
      "\tPRIMARY KEY (id)\n",
      ")\n",
      "\n",
      "\n",
      "2016-06-21 22:21:10,396 INFO sqlalchemy.engine.base.Engine ()\n",
      "2016-06-21 22:21:10,412 INFO sqlalchemy.engine.base.Engine COMMIT\n",
      "2016-06-21 22:21:10,414 INFO sqlalchemy.engine.base.Engine \n",
      "CREATE TABLE menu_item (\n",
      "\tname VARCHAR(250) NOT NULL, \n",
      "\tid INTEGER NOT NULL, \n",
      "\tcourse VARCHAR(250), \n",
      "\tdescription VARCHAR(250), \n",
      "\tprice FLOAT, \n",
      "\trestaurant_id INTEGER, \n",
      "\tPRIMARY KEY (id), \n",
      "\tFOREIGN KEY(restaurant_id) REFERENCES restaurant (id)\n",
      ")\n",
      "\n",
      "\n",
      "2016-06-21 22:21:10,419 INFO sqlalchemy.engine.base.Engine ()\n",
      "2016-06-21 22:21:10,428 INFO sqlalchemy.engine.base.Engine COMMIT\n"
     ]
    }
   ],
   "source": [
    "# 1. configuration\n",
    "import sys\n",
    "from sqlalchemy import Column, ForeignKey, Integer, String, Float\n",
    "from sqlalchemy.ext.declarative import declarative_base\n",
    "from sqlalchemy.orm import relationship #foreigh key relatonship\n",
    "from sqlalchemy import create_engine\n",
    "Base = declarative_base()\n",
    "\n",
    "# 2. create class and table representation\n",
    "\n",
    "class Restaurant(Base):#extends the Base class\n",
    "    \n",
    "    __tablename__ = 'restaurant' #table representation in database\n",
    "    \n",
    "    #3. mapper code - column<->py variable \n",
    "    id = Column(Integer, primary_key = True)\n",
    "    name = Column(String(80),nullable = False)\n",
    "    \n",
    "    \n",
    "    \n",
    "# 2. create class and table representation  \n",
    "\n",
    "class MenuItem(Base):\n",
    "    \n",
    "    __tablename__ = 'menu_item'\n",
    "    \n",
    "    #3. mapper code - column<->py variable\n",
    "    name = Column(String(250),nullable = False)\n",
    "    id = Column(Integer,primary_key = True)\n",
    "    course = Column(String(250))\n",
    "    description = Column(String(250))\n",
    "    price = Column(Float)\n",
    "    restaurant_id = Column(Integer, ForeignKey('restaurant.id')) #look inside the restaurant table and retrive its \\\n",
    "    #id col whenever i ask restaurant_id \n",
    "    restaurant = relationship(Restaurant)\n",
    "\n",
    "    \n",
    "## END\n",
    "engine = create_engine('sqlite:///restaurantmenu_orm.db',echo=True)\n",
    "Base.metadata.create_all(engine)"
   ]
  },
  {
   "cell_type": "markdown",
   "metadata": {},
   "source": [
    "## populate (insert) to create table "
   ]
  },
  {
   "cell_type": "code",
   "execution_count": 1,
   "metadata": {
    "collapsed": false
   },
   "outputs": [],
   "source": [
    "from sqlalchemy import create_engine\n",
    "from sqlalchemy.orm import sessionmaker #like cursor"
   ]
  },
  {
   "cell_type": "code",
   "execution_count": 2,
   "metadata": {
    "collapsed": true
   },
   "outputs": [],
   "source": [
    "from database_setup import Base, Restaurant, MenuItem\n",
    "engine = create_engine('sqlite:///restaurantmenu_orm.db')"
   ]
  },
  {
   "cell_type": "code",
   "execution_count": 3,
   "metadata": {
    "collapsed": true
   },
   "outputs": [],
   "source": [
    "Base.metadata.bind = engine #make connection between class and actual table"
   ]
  },
  {
   "cell_type": "code",
   "execution_count": 4,
   "metadata": {
    "collapsed": false
   },
   "outputs": [],
   "source": [
    "DBSession = sessionmaker(bind = engine) #sqlalchemy execute database operation via vm interface called session \n",
    "# a seesion allows us to write down all the command to execute, but it works until we commit"
   ]
  },
  {
   "cell_type": "code",
   "execution_count": 5,
   "metadata": {
    "collapsed": true
   },
   "outputs": [],
   "source": [
    "session = DBSession() #session is actual a stage zone for all of the object loaded into db"
   ]
  },
  {
   "cell_type": "code",
   "execution_count": 6,
   "metadata": {
    "collapsed": true
   },
   "outputs": [],
   "source": [
    "# add my restaurant \n",
    "\n",
    "myFirstRestaurant = Restaurant(name = '比薩大王')\n",
    "mySecondRestaurant = Restaurant(name = '永和豆漿')"
   ]
  },
  {
   "cell_type": "code",
   "execution_count": 8,
   "metadata": {
    "collapsed": true
   },
   "outputs": [],
   "source": [
    "session.add(myFirstRestaurant)\n",
    "session.add(mySecondRestaurant)"
   ]
  },
  {
   "cell_type": "code",
   "execution_count": 9,
   "metadata": {
    "collapsed": true
   },
   "outputs": [],
   "source": [
    "session.commit()"
   ]
  },
  {
   "cell_type": "code",
   "execution_count": 10,
   "metadata": {
    "collapsed": false
   },
   "outputs": [
    {
     "data": {
      "text/plain": [
       "[<database_setup.Restaurant at 0x1c2263b99e8>,\n",
       " <database_setup.Restaurant at 0x1c2263b9a20>]"
      ]
     },
     "execution_count": 10,
     "metadata": {},
     "output_type": "execute_result"
    }
   ],
   "source": [
    "session.query(Restaurant).all() #find the corresponding table in db and return it as list in python - 0x1c17695e0f0 "
   ]
  },
  {
   "cell_type": "code",
   "execution_count": 11,
   "metadata": {
    "collapsed": false
   },
   "outputs": [],
   "source": [
    "cheespizza = MenuItem(name = \"Cheese Pizza\", description=\"以天然原料製成 加入很多Mozzarella cheese\", course = \"Entree\", price = 150, \\\n",
    "restaurant = myFirstRestaurant)\n",
    "soymilk = MenuItem(name = \"soymilk\", description=\"美味豆漿以天然原料製成\", course = \"Beverage\", price = 90, \\\n",
    "restaurant = mySecondRestaurant)"
   ]
  },
  {
   "cell_type": "code",
   "execution_count": 12,
   "metadata": {
    "collapsed": true
   },
   "outputs": [],
   "source": [
    "session.add(cheespizza)\n",
    "session.add(soymilk)"
   ]
  },
  {
   "cell_type": "code",
   "execution_count": 13,
   "metadata": {
    "collapsed": true
   },
   "outputs": [],
   "source": [
    "session.commit()"
   ]
  },
  {
   "cell_type": "code",
   "execution_count": 14,
   "metadata": {
    "collapsed": false
   },
   "outputs": [
    {
     "data": {
      "text/plain": [
       "[<database_setup.MenuItem at 0x1c2263eeb38>,\n",
       " <database_setup.MenuItem at 0x1c2263eeb00>]"
      ]
     },
     "execution_count": 14,
     "metadata": {},
     "output_type": "execute_result"
    }
   ],
   "source": [
    "session.query(MenuItem).all()"
   ]
  },
  {
   "cell_type": "markdown",
   "metadata": {},
   "source": [
    "## CRUD read   "
   ]
  },
  {
   "cell_type": "code",
   "execution_count": 19,
   "metadata": {
    "collapsed": true
   },
   "outputs": [],
   "source": [
    "firstResult = session.query(Restaurant).first()"
   ]
  },
  {
   "cell_type": "code",
   "execution_count": 20,
   "metadata": {
    "collapsed": false
   },
   "outputs": [
    {
     "data": {
      "text/plain": [
       "'比薩大王'"
      ]
     },
     "execution_count": 20,
     "metadata": {},
     "output_type": "execute_result"
    }
   ],
   "source": [
    "firstResult.name"
   ]
  },
  {
   "cell_type": "code",
   "execution_count": 21,
   "metadata": {
    "collapsed": false
   },
   "outputs": [
    {
     "data": {
      "text/plain": [
       "1"
      ]
     },
     "execution_count": 21,
     "metadata": {},
     "output_type": "execute_result"
    }
   ],
   "source": [
    "firstResult.id"
   ]
  },
  {
   "cell_type": "markdown",
   "metadata": {},
   "source": [
    "#### Run addmoremenus_second_version.py to populate more menu item "
   ]
  },
  {
   "cell_type": "code",
   "execution_count": 22,
   "metadata": {
    "collapsed": false
   },
   "outputs": [
    {
     "data": {
      "text/plain": [
       "[<database_setup.Restaurant at 0x1c2263b99e8>,\n",
       " <database_setup.Restaurant at 0x1c2263b9a20>,\n",
       " <database_setup.Restaurant at 0x1c22641d278>,\n",
       " <database_setup.Restaurant at 0x1c22641d2e8>,\n",
       " <database_setup.Restaurant at 0x1c22641d358>,\n",
       " <database_setup.Restaurant at 0x1c22641d3c8>,\n",
       " <database_setup.Restaurant at 0x1c22641d470>,\n",
       " <database_setup.Restaurant at 0x1c22641d518>,\n",
       " <database_setup.Restaurant at 0x1c22641d5c0>,\n",
       " <database_setup.Restaurant at 0x1c22641d668>,\n",
       " <database_setup.Restaurant at 0x1c22641d710>,\n",
       " <database_setup.Restaurant at 0x1c22641d7b8>]"
      ]
     },
     "execution_count": 22,
     "metadata": {},
     "output_type": "execute_result"
    }
   ],
   "source": [
    "session.query(Restaurant).all()"
   ]
  },
  {
   "cell_type": "code",
   "execution_count": 23,
   "metadata": {
    "collapsed": true
   },
   "outputs": [],
   "source": [
    "MenuItems = session.query(MenuItem).all()"
   ]
  },
  {
   "cell_type": "code",
   "execution_count": 39,
   "metadata": {
    "collapsed": false
   },
   "outputs": [
    {
     "name": "stdout",
     "output_type": "stream",
     "text": [
      "Urban Burger\n",
      "menu:Veggie Burger, price:7.5, course:Entree\n",
      "description: Juicy grilled veggie patty with tomato mayo and lettuce\n",
      "Urban Burger\n",
      "menu:French Fries, price:2.49, course:Appetizer\n",
      "description: with garlic and parmesan\n",
      "Urban Burger\n",
      "menu:Chicken Burger, price:5.5, course:Entree\n",
      "description: Juicy grilled chicken patty with tomato mayo and lettuce\n",
      "Urban Burger\n",
      "menu:Chocolate Cake, price:3.99, course:Dessert\n",
      "description: fresh baked and served with ice cream\n",
      "Urban Burger\n",
      "menu:Sirloin Burger, price:7.99, course:Entree\n",
      "description: Made with grade A beef\n",
      "Urban Burger\n",
      "menu:Root Beer, price:1.99, course:Beverage\n",
      "description: 16oz of refreshing goodness\n",
      "Urban Burger\n",
      "menu:Iced Tea, price:0.99, course:Beverage\n",
      "description: with Lemon\n",
      "Urban Burger\n",
      "menu:Grilled Cheese Sandwich, price:3.49, course:Entree\n",
      "description: On texas toast with American Cheese\n",
      "Urban Burger\n",
      "menu:Veggie Burger, price:5.99, course:Entree\n",
      "description: Made with freshest of ingredients and home grown spices\n",
      "Super Stir Fry\n",
      "menu:Chicken Stir Fry, price:7.99, course:Entree\n",
      "description: With your choice of noodles vegetables and sauces\n",
      "Super Stir Fry\n",
      "menu:Peking Duck, price:25.0, course:Entree\n",
      "description:  A famous duck dish from Beijing[1] that has been prepared since the imperial era. The meat is prized for its thin, crisp skin, with authentic versions of the dish serving mostly the skin and little meat, sliced in front of the diners by the cook\n",
      "Super Stir Fry\n",
      "menu:Spicy Tuna Roll, price:15.0, course:Entree\n",
      "description: Seared rare ahi, avocado, edamame, cucumber with wasabi soy sauce \n",
      "Super Stir Fry\n",
      "menu:Nepali Momo , price:12.0, course:Entree\n",
      "description: Steamed dumplings made with vegetables, spices and meat. \n",
      "Super Stir Fry\n",
      "menu:Beef Noodle Soup, price:14.0, course:Entree\n",
      "description: A Chinese noodle soup made of stewed or red braised beef, beef broth, vegetables and Chinese noodles.\n",
      "Super Stir Fry\n",
      "menu:Ramen, price:12.0, course:Entree\n",
      "description: a Japanese noodle soup dish. It consists of Chinese-style wheat noodles served in a meat- or (occasionally) fish-based broth, often flavored with soy sauce or miso, and uses toppings such as sliced pork, dried seaweed, kamaboko, and green onions.\n",
      "Panda Garden\n",
      "menu:Pho, price:8.99, course:Entree\n",
      "description: a Vietnamese noodle soup consisting of broth, linguine-shaped rice noodles called banh pho, a few herbs, and meat.\n",
      "Panda Garden\n",
      "menu:Chinese Dumplings, price:6.99, course:Appetizer\n",
      "description: a common Chinese dumpling which generally consists of minced meat and finely chopped vegetables wrapped into a piece of dough skin. The skin can be either thin and elastic or thicker.\n",
      "Panda Garden\n",
      "menu:Gyoza, price:9.95, course:Entree\n",
      "description: The most prominent differences between Japanese-style gyoza and Chinese-style jiaozi are the rich garlic flavor, which is less noticeable in the Chinese version, the light seasoning of Japanese gyoza with salt and soy sauce, and the fact that gyoza wrappers are much thinner\n",
      "Panda Garden\n",
      "menu:Stinky Tofu, price:6.99, course:Entree\n",
      "description: Taiwanese dish, deep fried fermented tofu served with pickled cabbage.\n",
      "Panda Garden\n",
      "menu:Veggie Burger, price:9.5, course:Entree\n",
      "description: Juicy grilled veggie patty with tomato mayo and lettuce\n",
      "Panda Garden\n",
      "menu:French Fries, price:5.99, course:Appetizer\n",
      "description: with garlic only\n",
      "Thyme for That Vegetarian Cuisine \n",
      "menu:Tres Leches Cake, price:2.99, course:Dessert\n",
      "description: Rich, luscious sponge cake soaked in sweet milk and topped with vanilla bean whipped cream and strawberries.\n",
      "Thyme for That Vegetarian Cuisine \n",
      "menu:Mushroom risotto, price:5.99, course:Entree\n",
      "description: Portabello mushrooms in a creamy risotto\n",
      "Thyme for That Vegetarian Cuisine \n",
      "menu:Honey Boba Shaved Snow, price:4.5, course:Dessert\n",
      "description: Milk snow layered with honey boba, jasmine tea jelly, grass jelly, caramel, cream, and freshly made mochi\n",
      "Thyme for That Vegetarian Cuisine \n",
      "menu:Cauliflower Manchurian, price:6.95, course:Appetizer\n",
      "description: Golden fried cauliflower florets in a midly spiced soya,garlic sauce cooked with fresh cilantro, celery, chilies,ginger & green onions\n",
      "Thyme for That Vegetarian Cuisine \n",
      "menu:Aloo Gobi Burrito, price:7.95, course:Entree\n",
      "description: Vegan goodness. Burrito filled with rice, garbanzo beans, curry sauce, potatoes (aloo), fried cauliflower (gobi) and chutney. Nom Nom\n",
      "Thyme for That Vegetarian Cuisine \n",
      "menu:Veggie Burger, price:6.8, course:Entree\n",
      "description: Juicy grilled veggie patty with tomato mayo and lettuce\n",
      "Tony's Bistro \n",
      "menu:Shellfish Tower, price:2.95, course:Entree\n",
      "description: Lobster, shrimp, sea snails, crawfish, stacked into a delicious tower\n",
      "Tony's Bistro \n",
      "menu:Chicken and Rice, price:2.95, course:Entree\n",
      "description: Chicken... and rice\n",
      "Tony's Bistro \n",
      "menu:Mom's Spaghetti, price:3.5, course:Entree\n",
      "description: Spaghetti with some incredible tomato sauce made by mom\n",
      "Tony's Bistro \n",
      "menu:Choc Full O' Mint (Smitten's Fresh Mint Chip ice cream), price:3.95, course:Dessert\n",
      "description: Milk, cream, salt, ..., Liquid nitrogen magic\n",
      "Tony's Bistro \n",
      "menu:Tonkatsu Ramen, price:3.95, course:Entree\n",
      "description: Noodles in a delicious pork-based broth with a soft-boiled egg\n",
      "Tony's Bistro \n",
      "menu:French Fries, price:5.95, course:Appetizer\n",
      "description: original flavour\n",
      "Andala's\n",
      "menu:Lamb Curry, price:3.95, course:Entree\n",
      "description: Slow cook that thang in a pool of tomatoes, onions and alllll those tasty Indian spices. Mmmm.\n",
      "Andala's\n",
      "menu:Chicken Marsala, price:3.95, course:Entree\n",
      "description: Chicken cooked in Marsala wine sauce with mushrooms\n",
      "Andala's\n",
      "menu:Potstickers, price:3.95, course:Appetizer\n",
      "description: Delicious chicken and veggies encapsulated in fried dough.\n",
      "Andala's\n",
      "menu:Nigiri Sampler, price:3.95, course:Appetizer\n",
      "description: Maguro, Sake, Hamachi, Unagi, Uni, TORO!\n",
      "Andala's\n",
      "menu:Veggie Burger, price:3.95, course:Entree\n",
      "description: Juicy grilled veggie patty with tomato mayo and lettuce\n",
      "Auntie Ann's Diner' \n",
      "menu:Chicken Fried Steak, price:3.95, course:Entree\n",
      "description: Fresh battered sirloin steak fried and smothered with cream gravy\n",
      "Auntie Ann's Diner' \n",
      "menu:Boysenberry Sorbet, price:3.95, course:Dessert\n",
      "description: An unsettlingly huge amount of ripe berries turned into frozen (and seedless) awesomeness\n",
      "Auntie Ann's Diner' \n",
      "menu:Broiled salmon, price:2.95, course:Entree\n",
      "description: Salmon fillet marinated with fresh herbs and broiled hot & fast\n",
      "Auntie Ann's Diner' \n",
      "menu:Morels on toast (seasonal), price:2.95, course:Appetizer\n",
      "description: Wild morel mushrooms fried in butter, served on herbed toast slices\n",
      "Auntie Ann's Diner' \n",
      "menu:Tandoori Chicken, price:2.95, course:Entree\n",
      "description: Chicken marinated in yoghurt and seasoned with a spicy mix(chilli, tamarind among others) and slow cooked in a cylindrical clay or metal oven which gets its heat from burning charcoal.\n",
      "Auntie Ann's Diner' \n",
      "menu:Veggie Burger, price:2.95, course:Entree\n",
      "description: Juicy grilled veggie patty with tomato mayo and lettuce\n",
      "Auntie Ann's Diner' \n",
      "menu:Spinach Ice Cream, price:2.95, course:Dessert\n",
      "description: vanilla ice cream made with organic spinach leaves\n",
      "Cocina Y Amor \n",
      "menu:Super Burrito Al Pastor, price:2.95, course:Entree\n",
      "description: Marinated Pork, Rice, Beans, Avocado, Cilantro, Salsa, Tortilla\n",
      "Cocina Y Amor \n",
      "menu:Cachapa, price:6.5, course:Entree\n",
      "description: Golden brown, corn-based Venezuelan pancake; usually stuffed with queso telita or queso de mano, and possibly lechon. \n",
      "State Bird Provisions\n",
      "menu:Chantrelle Toast, price:2.95, course:Appetizer\n",
      "description: Crispy Toast with Sesame Seeds slathered with buttery chantrelle mushrooms\n",
      "State Bird Provisions\n",
      "menu:Guanciale Chawanmushi, price:2.95, course:Dessert\n",
      "description: Japanese egg custard served hot with spicey Italian Pork Jowl (guanciale)\n",
      "State Bird Provisions\n",
      "menu:Lemon Curd Ice Cream Sandwich, price:1.5, course:Dessert\n",
      "description: Lemon Curd Ice Cream Sandwich on a chocolate macaron with cardamom meringue and cashews\n",
      "State Bird Provisions\n",
      "menu:French Fries, price:2.83, course:Appetizer\n",
      "description: With delicious sources\n",
      "大宅門\n",
      "menu:特製酸梅湯, price:3.15, course:Dessert\n",
      "description: 店家自行熬煮的，喝起來甘甜解膩\n",
      "大宅門\n",
      "menu:皮蛋擂辣椒, price:6.95, course:Entree\n",
      "description: 小黃瓜絲上頭鋪了滿滿調味過的皮蛋，最上頭再擺上少許辣椒點綴\n",
      "比薩大王\n",
      "menu:Cheese Pizza, price:150.0, course:Entree\n",
      "description: 以天然原料製成 加入很多Mozzarella cheese\n"
     ]
    }
   ],
   "source": [
    "for item in MenuItems:\n",
    "    print(item.restaurant.name)\n",
    "    print(\"menu:%s, price:%s, course:%s\"%(item.name,item.price,item.course))\n",
    "    print(\"description: %s\"% item.description)"
   ]
  },
  {
   "cell_type": "markdown",
   "metadata": {},
   "source": [
    "### 配合query的幾個常用function  \n",
    "#### you can refer to http://docs.sqlalchemy.org/en/latest/orm/tutorial.html#querying"
   ]
  },
  {
   "cell_type": "code",
   "execution_count": 24,
   "metadata": {
    "collapsed": false
   },
   "outputs": [
    {
     "data": {
      "text/plain": [
       "55"
      ]
     },
     "execution_count": 24,
     "metadata": {},
     "output_type": "execute_result"
    }
   ],
   "source": [
    "MenuItemResults = session.query(MenuItem)\n",
    "MenuItemResults.count()"
   ]
  },
  {
   "cell_type": "code",
   "execution_count": 25,
   "metadata": {
    "collapsed": false
   },
   "outputs": [
    {
     "name": "stdout",
     "output_type": "stream",
     "text": [
      "Cheese Pizza\n",
      "Veggie Burger\n",
      "Chicken Burger\n",
      "Sirloin Burger\n",
      "Grilled Cheese Sandwich\n",
      "Veggie Burger\n",
      "Chicken Stir Fry\n",
      "Peking Duck\n",
      "Spicy Tuna Roll\n",
      "Nepali Momo \n",
      "Beef Noodle Soup\n",
      "Ramen\n",
      "Pho\n",
      "Gyoza\n",
      "Stinky Tofu\n",
      "Veggie Burger\n",
      "Mushroom risotto\n",
      "Aloo Gobi Burrito\n",
      "Veggie Burger\n",
      "Shellfish Tower\n",
      "Chicken and Rice\n",
      "Mom's Spaghetti\n",
      "Tonkatsu Ramen\n",
      "Lamb Curry\n",
      "Chicken Marsala\n",
      "Veggie Burger\n",
      "Chicken Fried Steak\n",
      "Broiled salmon\n",
      "Tandoori Chicken\n",
      "Veggie Burger\n",
      "Super Burrito Al Pastor\n",
      "Cachapa\n",
      "皮蛋擂辣椒\n"
     ]
    }
   ],
   "source": [
    "menuitems= session.query(MenuItem).filter(MenuItem.course==\"Entree\").all()\n",
    "for m in menuitems:\n",
    "    print(m.name)"
   ]
  },
  {
   "cell_type": "code",
   "execution_count": 26,
   "metadata": {
    "collapsed": false
   },
   "outputs": [
    {
     "data": {
      "text/plain": [
       "str"
      ]
     },
     "execution_count": 26,
     "metadata": {},
     "output_type": "execute_result"
    }
   ],
   "source": [
    "RestaurantResult = session.query(Restaurant)\n",
    "RestaurantResult.count()\n",
    "type(RestaurantResult[0].name)"
   ]
  },
  {
   "cell_type": "markdown",
   "metadata": {},
   "source": [
    "### exercise2 - Retrieve what \"Urban Burger\" and 'Super Stir Fry'"
   ]
  },
  {
   "cell_type": "code",
   "execution_count": 46,
   "metadata": {
    "collapsed": false
   },
   "outputs": [
    {
     "name": "stdout",
     "output_type": "stream",
     "text": [
      "Restaurant:  Urban Burger\n",
      "     menuitem: Veggie Burger price: 7.5\n",
      "     menuitem: French Fries price: 2.49\n",
      "     menuitem: Chicken Burger price: 5.5\n",
      "     menuitem: Chocolate Cake price: 3.99\n",
      "     menuitem: Sirloin Burger price: 7.99\n",
      "     menuitem: Root Beer price: 1.99\n",
      "     menuitem: Iced Tea price: 0.99\n",
      "     menuitem: Grilled Cheese Sandwich price: 3.49\n",
      "     menuitem: Veggie Burger price: 5.99\n",
      "Restaurant:  Super Stir Fry\n",
      "     menuitem: Chicken Stir Fry price: 7.99\n",
      "     menuitem: Peking Duck price: 25.0\n",
      "     menuitem: Spicy Tuna Roll price: 15.0\n",
      "     menuitem: Nepali Momo  price: 12.0\n",
      "     menuitem: Beef Noodle Soup price: 14.0\n",
      "     menuitem: Ramen price: 12.0\n"
     ]
    }
   ],
   "source": [
    "\n",
    "tagret_restaurants = session.query(Restaurant).filter(Restaurant.name.in_(['Urban Burger','Super Stir Fry']))\n",
    "for res in tagret_restaurants:\n",
    "    print(\"Restaurant: \",res.name)\n",
    "    tagret_restaurant_menuitems = session.query(MenuItem).filter(MenuItem.restaurant == res).all()\n",
    "    for menu in tagret_restaurant_menuitems:\n",
    "            print(\"     menuitem: %s price: %s\"%(menu.name, menu.price))\n",
    "\n"
   ]
  },
  {
   "cell_type": "markdown",
   "metadata": {},
   "source": [
    "### exercise2 - Retrieve the offer from non-english restaurants"
   ]
  },
  {
   "cell_type": "code",
   "execution_count": 29,
   "metadata": {
    "collapsed": false
   },
   "outputs": [
    {
     "name": "stdout",
     "output_type": "stream",
     "text": [
      "Restaurant:  比薩大王\n",
      "     menuitem: Cheese Pizza\n",
      "Restaurant:  大宅門\n",
      "     menuitem: 特製酸梅湯\n",
      "     menuitem: 皮蛋擂辣椒\n"
     ]
    }
   ],
   "source": [
    "def isEnglish(s):\n",
    "    try:\n",
    "        s.encode('ascii')\n",
    "    except UnicodeEncodeError:\n",
    "        return False\n",
    "    else:\n",
    "        return True\n",
    "\n",
    "all_restaurants = session.query(Restaurant)#here 's the query objects, not the list\n",
    "non_english_restaurants = [res for res in all_restaurants if not isEnglish(res.name)]\n",
    "for res in non_english_restaurants:\n",
    "    print(\"Restaurant: \",res.name)\n",
    "    non_english_restaurants_menuitems = session.query(MenuItem).filter(MenuItem.restaurant == res).all()\n",
    "    for menu in non_english_restaurants_menuitems:\n",
    "        print(\"     menuitem:\", menu.name)\n",
    "\n",
    "\n",
    "    "
   ]
  },
  {
   "cell_type": "markdown",
   "metadata": {},
   "source": [
    "### exercise2 - Retrieve the restaurants offering 'French Fries' with price smaller than 3 and their description and price "
   ]
  },
  {
   "cell_type": "code",
   "execution_count": 18,
   "metadata": {
    "collapsed": false
   },
   "outputs": [],
   "source": [
    "target_menuitems = session.query(MenuItem).filter(MenuItem.name == \"French Fries\").filter(MenuItem.price < 3)"
   ]
  },
  {
   "cell_type": "code",
   "execution_count": 26,
   "metadata": {
    "collapsed": false
   },
   "outputs": [
    {
     "name": "stdout",
     "output_type": "stream",
     "text": [
      "Restaurant:  Urban Burger\n",
      "French Fries and price: 2.49\n",
      "Restaurant:  State Bird Provisions\n",
      "French Fries and price: 2.83\n"
     ]
    }
   ],
   "source": [
    "for item in target_menuitems:\n",
    "    print(\"Restaurant: \",item.restaurant.name)\n",
    "    print(\"%s and price: %s\" % (item.name, item.price) )"
   ]
  },
  {
   "cell_type": "markdown",
   "metadata": {},
   "source": [
    "## UPDATE"
   ]
  },
  {
   "cell_type": "code",
   "execution_count": 7,
   "metadata": {
    "collapsed": false
   },
   "outputs": [
    {
     "data": {
      "text/plain": [
       "sqlalchemy.orm.query.Query"
      ]
     },
     "execution_count": 7,
     "metadata": {},
     "output_type": "execute_result"
    }
   ],
   "source": [
    "veggieBurgers = session.query(MenuItem).filter(MenuItem.name == 'Veggie Burger') #return query object \n",
    "type(veggieBurgers)"
   ]
  },
  {
   "cell_type": "code",
   "execution_count": 8,
   "metadata": {
    "collapsed": false
   },
   "outputs": [],
   "source": [
    "veggieBurgers = session.query(MenuItem).filter_by(name = 'Veggie Burger')"
   ]
  },
  {
   "cell_type": "code",
   "execution_count": 9,
   "metadata": {
    "collapsed": false
   },
   "outputs": [
    {
     "name": "stdout",
     "output_type": "stream",
     "text": [
      "3 ; 7.5 ; Urban Burger\n",
      "11 ; 5.99 ; Urban Burger\n",
      "22 ; 9.5 ; Panda Garden\n",
      "29 ; 6.8 ; Thyme for That Vegetarian Cuisine \n",
      "40 ; 3.95 ; Andala's\n",
      "46 ; 2.95 ; Auntie Ann's Diner' \n"
     ]
    }
   ],
   "source": [
    "for veggieBurger in veggieBurgers:\n",
    "    print(veggieBurger.id, veggieBurger.price, veggieBurger.restaurant.name, sep=\" ; \")\n"
   ]
  },
  {
   "cell_type": "code",
   "execution_count": 11,
   "metadata": {
    "collapsed": false
   },
   "outputs": [],
   "source": [
    "PandaVeggieBurger = session.query(MenuItem).filter_by(id = 21).one() #return the panda garden's veggie bugger class object \n",
    "\n"
   ]
  },
  {
   "cell_type": "code",
   "execution_count": 12,
   "metadata": {
    "collapsed": false
   },
   "outputs": [
    {
     "data": {
      "text/plain": [
       "'6.99'"
      ]
     },
     "execution_count": 12,
     "metadata": {},
     "output_type": "execute_result"
    }
   ],
   "source": [
    "PandaVeggieBurger.price"
   ]
  },
  {
   "cell_type": "code",
   "execution_count": 13,
   "metadata": {
    "collapsed": false
   },
   "outputs": [],
   "source": [
    "PandaVeggieBurger.price = 2.99"
   ]
  },
  {
   "cell_type": "code",
   "execution_count": 14,
   "metadata": {
    "collapsed": true
   },
   "outputs": [],
   "source": [
    "session.add(PandaVeggieBurger)"
   ]
  },
  {
   "cell_type": "code",
   "execution_count": 15,
   "metadata": {
    "collapsed": true
   },
   "outputs": [],
   "source": [
    "session.commit()"
   ]
  },
  {
   "cell_type": "markdown",
   "metadata": {},
   "source": [
    "## CRUD DELETE"
   ]
  },
  {
   "cell_type": "code",
   "execution_count": 16,
   "metadata": {
    "collapsed": true
   },
   "outputs": [],
   "source": [
    "spinachIceCream = session.query(MenuItem).filter_by(name = 'Spinach Ice Cream').one()"
   ]
  },
  {
   "cell_type": "code",
   "execution_count": 17,
   "metadata": {
    "collapsed": false
   },
   "outputs": [
    {
     "data": {
      "text/plain": [
       "database_setup.MenuItem"
      ]
     },
     "execution_count": 17,
     "metadata": {},
     "output_type": "execute_result"
    }
   ],
   "source": [
    "type(spinachIceCream)"
   ]
  },
  {
   "cell_type": "code",
   "execution_count": 18,
   "metadata": {
    "collapsed": true
   },
   "outputs": [],
   "source": [
    "spinachIceCream = session.query(MenuItem).filter(MenuItem.name == 'Spinach Ice Cream').one()"
   ]
  },
  {
   "cell_type": "code",
   "execution_count": 19,
   "metadata": {
    "collapsed": false
   },
   "outputs": [
    {
     "data": {
      "text/plain": [
       "database_setup.MenuItem"
      ]
     },
     "execution_count": 19,
     "metadata": {},
     "output_type": "execute_result"
    }
   ],
   "source": [
    "type(spinachIceCream)"
   ]
  },
  {
   "cell_type": "code",
   "execution_count": 20,
   "metadata": {
    "collapsed": false
   },
   "outputs": [
    {
     "data": {
      "text/plain": [
       "\"Auntie Ann's Diner' \""
      ]
     },
     "execution_count": 20,
     "metadata": {},
     "output_type": "execute_result"
    }
   ],
   "source": [
    "spinachIceCream.restaurant.name"
   ]
  },
  {
   "cell_type": "code",
   "execution_count": 21,
   "metadata": {
    "collapsed": true
   },
   "outputs": [],
   "source": [
    "session.delete(spinachIceCream)"
   ]
  },
  {
   "cell_type": "code",
   "execution_count": 22,
   "metadata": {
    "collapsed": false
   },
   "outputs": [],
   "source": [
    "session.commit()"
   ]
  },
  {
   "cell_type": "code",
   "execution_count": 23,
   "metadata": {
    "collapsed": false
   },
   "outputs": [
    {
     "ename": "NoResultFound",
     "evalue": "No row was found for one()",
     "output_type": "error",
     "traceback": [
      "\u001b[1;31m---------------------------------------------------------------------------\u001b[0m",
      "\u001b[1;31mNoResultFound\u001b[0m                             Traceback (most recent call last)",
      "\u001b[1;32m<ipython-input-23-dbf68aff8e21>\u001b[0m in \u001b[0;36m<module>\u001b[1;34m()\u001b[0m\n\u001b[1;32m----> 1\u001b[1;33m \u001b[0mspinachIceCream\u001b[0m \u001b[1;33m=\u001b[0m \u001b[0msession\u001b[0m\u001b[1;33m.\u001b[0m\u001b[0mquery\u001b[0m\u001b[1;33m(\u001b[0m\u001b[0mMenuItem\u001b[0m\u001b[1;33m)\u001b[0m\u001b[1;33m.\u001b[0m\u001b[0mfilter\u001b[0m\u001b[1;33m(\u001b[0m\u001b[0mMenuItem\u001b[0m\u001b[1;33m.\u001b[0m\u001b[0mname\u001b[0m \u001b[1;33m==\u001b[0m \u001b[1;34m'Spinach Ice Cream'\u001b[0m\u001b[1;33m)\u001b[0m\u001b[1;33m.\u001b[0m\u001b[0mone\u001b[0m\u001b[1;33m(\u001b[0m\u001b[1;33m)\u001b[0m\u001b[1;33m\u001b[0m\u001b[0m\n\u001b[0m",
      "\u001b[1;32mC:\\Users\\paulyang\\Development\\Anaconda2.4.0\\envs\\py34\\lib\\site-packages\\sqlalchemy\\orm\\query.py\u001b[0m in \u001b[0;36mone\u001b[1;34m(self)\u001b[0m\n\u001b[0;32m   2722\u001b[0m             \u001b[1;32mreturn\u001b[0m \u001b[0mret\u001b[0m\u001b[1;33m[\u001b[0m\u001b[1;36m0\u001b[0m\u001b[1;33m]\u001b[0m\u001b[1;33m\u001b[0m\u001b[0m\n\u001b[0;32m   2723\u001b[0m         \u001b[1;32melif\u001b[0m \u001b[0ml\u001b[0m \u001b[1;33m==\u001b[0m \u001b[1;36m0\u001b[0m\u001b[1;33m:\u001b[0m\u001b[1;33m\u001b[0m\u001b[0m\n\u001b[1;32m-> 2724\u001b[1;33m             \u001b[1;32mraise\u001b[0m \u001b[0morm_exc\u001b[0m\u001b[1;33m.\u001b[0m\u001b[0mNoResultFound\u001b[0m\u001b[1;33m(\u001b[0m\u001b[1;34m\"No row was found for one()\"\u001b[0m\u001b[1;33m)\u001b[0m\u001b[1;33m\u001b[0m\u001b[0m\n\u001b[0m\u001b[0;32m   2725\u001b[0m         \u001b[1;32melse\u001b[0m\u001b[1;33m:\u001b[0m\u001b[1;33m\u001b[0m\u001b[0m\n\u001b[0;32m   2726\u001b[0m             raise orm_exc.MultipleResultsFound(\n",
      "\u001b[1;31mNoResultFound\u001b[0m: No row was found for one()"
     ]
    }
   ],
   "source": [
    "spinachIceCream = session.query(MenuItem).filter(MenuItem.name == 'Spinach Ice Cream').one()"
   ]
  },
  {
   "cell_type": "code",
   "execution_count": null,
   "metadata": {
    "collapsed": true
   },
   "outputs": [],
   "source": []
  }
 ],
 "metadata": {
  "kernelspec": {
   "display_name": "Python 3",
   "language": "python",
   "name": "python3"
  },
  "language_info": {
   "codemirror_mode": {
    "name": "ipython",
    "version": 3
   },
   "file_extension": ".py",
   "mimetype": "text/x-python",
   "name": "python",
   "nbconvert_exporter": "python",
   "pygments_lexer": "ipython3",
   "version": "3.5.1"
  }
 },
 "nbformat": 4,
 "nbformat_minor": 0
}
