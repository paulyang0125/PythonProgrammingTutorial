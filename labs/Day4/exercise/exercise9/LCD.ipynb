{
 "cells": [
  {
   "cell_type": "markdown",
   "metadata": {},
   "source": [
    "LCD "
   ]
  },
  {
   "cell_type": "markdown",
   "metadata": {},
   "source": [
    "#### 運用 LCD setup codes"
   ]
  },
  {
   "cell_type": "code",
   "execution_count": 7,
   "metadata": {
    "collapsed": false
   },
   "outputs": [],
   "source": [
    "import RPi.GPIO as GPIO\n",
    "from time import sleep\n",
    "from subprocess import check_output\n",
    "\n",
    "GPIO.setmode(GPIO.BOARD)\n",
    "    \n",
    "#def pin_assignment():\n",
    "LCD_RS = 38\n",
    "LCD_RW = 40\n",
    "LCD_EN = 29\n",
    "LCD_D4 = 31\n",
    "LCD_D5 = 33\n",
    "LCD_D6 = 35\n",
    "LCD_D7 = 37\n",
    "CMD_DELAY = 0.0002\n",
    "CMD_CLEAR_DELAY = 0.001\n",
    "\n",
    "def set_GPIOs_write_mode():\n",
    "    GPIO.setup(LCD_EN, GPIO.OUT) # EN\n",
    "    GPIO.setup(LCD_RS, GPIO.OUT) # RS\n",
    "    GPIO.setup(LCD_RW, GPIO.OUT) # RW\n",
    "    GPIO.setup(LCD_D4, GPIO.OUT) # DB4\n",
    "    GPIO.setup(LCD_D5, GPIO.OUT) # DB5\n",
    "    GPIO.setup(LCD_D6, GPIO.OUT) # DB6\n",
    "    GPIO.setup(LCD_D7, GPIO.OUT) # DB7\n",
    "\n",
    "def RW_ready():\n",
    "    sleep(0.000001)\n",
    "    GPIO.output(LCD_EN, 1)\n",
    "    sleep(0.000001)\n",
    "    GPIO.output(LCD_EN, 0)\n",
    "    \n",
    "def write_lcdcmd(cmd):\n",
    "    GPIO.output(LCD_EN, GPIO.LOW) \n",
    "    GPIO.output(LCD_RS, GPIO.LOW)#tell LCD this is to send commmand\n",
    "    GPIO.output(LCD_RW, GPIO.LOW)\n",
    "    \n",
    "    #WRITE higher 4 bits\n",
    "    GPIO.output(LCD_D7,GPIO.HIGH if (0b10000000 & cmd) else GPIO.LOW) #if 7th bit is set, output 1, else set 0 \n",
    "    GPIO.output(LCD_D6,GPIO.HIGH if (0b01000000 & cmd) else GPIO.LOW)\n",
    "    GPIO.output(LCD_D5,GPIO.HIGH if (0b00100000 & cmd) else GPIO.LOW)\n",
    "    GPIO.output(LCD_D4,GPIO.HIGH if (0b00010000 & cmd) else GPIO.LOW)\n",
    "    RW_ready()\n",
    "    \n",
    "    #WRITE lower 4 bits\n",
    "    GPIO.output(LCD_D7,GPIO.HIGH if (0b00001000 & cmd) else GPIO.LOW) #if 3th bit is set, output 1, else set 0 \n",
    "    GPIO.output(LCD_D6,GPIO.HIGH if (0b00000100 & cmd) else GPIO.LOW)\n",
    "    GPIO.output(LCD_D5,GPIO.HIGH if (0b00000010 & cmd) else GPIO.LOW)\n",
    "    GPIO.output(LCD_D4,GPIO.HIGH if (0b00000001 & cmd) else GPIO.LOW)\n",
    "    RW_ready()\n",
    "    sleep(CMD_DELAY)\n",
    "    \n",
    "def write_data(cmd):\n",
    "    GPIO.output(LCD_RS, GPIO.HIGH)#tell LCD this is to send data \n",
    "    GPIO.output(LCD_EN, GPIO.LOW) \n",
    "    GPIO.output(LCD_RW, GPIO.LOW)\n",
    "    \n",
    "    #WRITE higher 4 bits\n",
    "    GPIO.output(LCD_D7,GPIO.HIGH if (0b10000000 & cmd) else GPIO.LOW) #if 7th bit is set, output 1, else set 0 \n",
    "    GPIO.output(LCD_D6,GPIO.HIGH if (0b01000000 & cmd) else GPIO.LOW)\n",
    "    GPIO.output(LCD_D5,GPIO.HIGH if (0b00100000 & cmd) else GPIO.LOW)\n",
    "    GPIO.output(LCD_D4,GPIO.HIGH if (0b00010000 & cmd) else GPIO.LOW)\n",
    "    RW_ready()\n",
    "    \n",
    "    #WRITE lower 4 bits\n",
    "    GPIO.output(LCD_D7,GPIO.HIGH if (0b00001000 & cmd) else GPIO.LOW) #if 3th bit is set, output 1, else set 0 \n",
    "    GPIO.output(LCD_D6,GPIO.HIGH if (0b00000100 & cmd) else GPIO.LOW)\n",
    "    GPIO.output(LCD_D5,GPIO.HIGH if (0b00000010 & cmd) else GPIO.LOW)\n",
    "    GPIO.output(LCD_D4,GPIO.HIGH if (0b00000001 & cmd) else GPIO.LOW)\n",
    "    RW_ready()\n",
    "    sleep(CMD_DELAY)\n",
    "    \n",
    "\n",
    "def LCD_boot_setup():\n",
    "    #1. EN,RS,RW,D7~D4 都設為 low。\n",
    "    GPIO.output(LCD_D4,0)\n",
    "    GPIO.output(LCD_D5,0)\n",
    "    GPIO.output(LCD_D6,0)\n",
    "    GPIO.output(LCD_D7,0)\n",
    "    GPIO.output(LCD_RS,0)\n",
    "    GPIO.output(LCD_RW,0)\n",
    "    GPIO.output(LCD_EN,0)\n",
    "    sleep(0.1)\n",
    "    \n",
    "    #2. EN 設 high -> 等一下 -> EN 設 low\n",
    "    GPIO.output(LCD_EN,1)\n",
    "    sleep(0.000001) #wait at least 150ns\n",
    "    GPIO.output(LCD_EN,0)\n",
    "    sleep(0.000001) #wait at least 150ns\n",
    "    \n",
    "    \n",
    "    #3.D7~D4分別設為 low, low, high, low (0b0011)\n",
    "    sleep(0.002)\n",
    "    write_lcdcmd(0x03)\n",
    "    sleep(0.001) #wait at least 4.1 ms\n",
    "    write_lcdcmd(0x03)\n",
    "    sleep(0.0001) #wait at least 100 us\n",
    "    write_lcdcmd(0x03)\n",
    "    sleep(0.0001)\n",
    "    write_lcdcmd(0x02)\n",
    "    sleep(0.0001)\n",
    "    # function setup \n",
    "    write_lcdcmd(0x28) #0010 - set 4bit mode and 1000 - set 2 display lines and 5x8 dot font 設定為4bit操作，兩行顯示模式\n",
    "    write_lcdcmd(0x0c) # 設定為每寫入一次資料，游標位置向右移一格 cursor/display shift\n",
    "    write_lcdcmd(0x01) #清除螢幕並游標歸回原點  CLEAR DISPLAY\n",
    "    sleep(CMD_CLEAR_DELAY) \n",
    "    write_lcdcmd(0x06) #Enable mode set\n",
    "    \n",
    "\n",
    "    \n",
    "    \n",
    "set_GPIOs_write_mode()\n",
    "LCD_boot_setup()\n",
    "    \n",
    "    \n",
    "\n"
   ]
  },
  {
   "cell_type": "markdown",
   "metadata": {},
   "source": [
    "### 練習 在LCM模組上第一行和第二行顯示Hello Python "
   ]
  },
  {
   "cell_type": "code",
   "execution_count": 6,
   "metadata": {
    "collapsed": false
   },
   "outputs": [],
   "source": [
    "write_lcdcmd(0x80)\n",
    "write_data(ord('H'))\n",
    "write_data(ord('e'))\n",
    "write_data(ord('l'))\n",
    "write_data(ord('l'))\n",
    "write_data(ord('o'))\n",
    "write_data(ord(' '))\n",
    "write_data(ord('P'))\n",
    "write_data(ord('y'))\n",
    "write_data(ord('t'))\n",
    "write_data(ord('h'))\n",
    "write_data(ord('o'))\n",
    "write_data(ord('n'))\n",
    "sleep(1)"
   ]
  },
  {
   "cell_type": "code",
   "execution_count": 5,
   "metadata": {
    "collapsed": false
   },
   "outputs": [],
   "source": [
    "write_lcdcmd(0xc0)\n",
    "data = \"Hello Python\"\n",
    "for c in data:\n",
    "    write_data(ord(c))\n",
    "\n",
    "sleep(1)"
   ]
  },
  {
   "cell_type": "markdown",
   "metadata": {},
   "source": [
    "### 練習 在LCM模組上第一行奇數位址和第二行奇數位址顯示Hello\n",
    "### hint: use 0x80 + col-1 and  0xc0 + col-1 to get the pos in first and second line "
   ]
  },
  {
   "cell_type": "code",
   "execution_count": 53,
   "metadata": {
    "collapsed": false
   },
   "outputs": [],
   "source": [
    "write_lcdcmd(0x01)\n",
    "col_1 = [1,3,5,7,9]\n",
    "data = \"Hello\"\n",
    "col_2 = [2,4,6,8,10]\n",
    "for col, c in zip(col_1,data):\n",
    "    write_lcdcmd(0x80 + col-1)\n",
    "    write_data(ord(c))\n",
    "for col, c in zip(col_2,data):\n",
    "    write_lcdcmd(0xc0 + col-1)\n",
    "    write_data(ord(c))"
   ]
  },
  {
   "cell_type": "markdown",
   "metadata": {},
   "source": [
    "### 練習 做move_cursor(line, col), print_line_1(msg), print_line_2(msg), clear_line_1 & 2程式\n",
    "### hint:  use this express:  (line-1) * 0x40 + 0x80 + (col-1) to get the position  "
   ]
  },
  {
   "cell_type": "code",
   "execution_count": 44,
   "metadata": {
    "collapsed": true
   },
   "outputs": [],
   "source": [
    "def move(line,col):\n",
    "    pos = 0x80 + (line-1) * 0x40 + (col-1)\n",
    "    write_lcdcmd(pos)\n",
    "\n",
    "def print_line_1(msg):\n",
    "    move(1,1)\n",
    "    if type(msg) == str:\n",
    "        for c in msg:\n",
    "            write_data(ord(c))\n",
    "            \n",
    "def print_line_2(msg):\n",
    "    move(2,1)\n",
    "    if type(msg) == str:\n",
    "        for c in msg:\n",
    "            write_data(ord(c))\n",
    "\n",
    "def clear_line_1():\n",
    "    print_line_1(\" \" * 16)\n",
    "    \n",
    "def clear_line_2():\n",
    "    print_line_2(\" \" * 16)\n",
    "\n",
    "\n",
    "\n"
   ]
  },
  {
   "cell_type": "code",
   "execution_count": 55,
   "metadata": {
    "collapsed": true
   },
   "outputs": [],
   "source": [
    "clear_line_1()\n",
    "print_line_1(\"Hello Python\")\n",
    "clear_line_2()\n",
    "print_line_2(\"Hello Python\")"
   ]
  },
  {
   "cell_type": "markdown",
   "metadata": {},
   "source": [
    "### 練習 配合subprocess.check_output() 呼叫指令ifconfig 得到IP 位置，並將其顯示在LCM模組之上。\n",
    "### hint: use decode().split() to seperate each line and look for \"addr:\""
   ]
  },
  {
   "cell_type": "code",
   "execution_count": 54,
   "metadata": {
    "collapsed": false
   },
   "outputs": [
    {
     "data": {
      "text/plain": [
       "['172.20.10.3', '127.0.0.1']"
      ]
     },
     "execution_count": 54,
     "metadata": {},
     "output_type": "execute_result"
    }
   ],
   "source": [
    "def get_ips():\n",
    "    ip_data = check_output('ifconfig').decode().split()\n",
    "    ip_list = []\n",
    "    for item in ip_data:\n",
    "        if \"addr:\" in item:\n",
    "            ip_list.append(item[5:])\n",
    "    return [i for i in ip_list if i]\n",
    "get_ips()"
   ]
  },
  {
   "cell_type": "code",
   "execution_count": 60,
   "metadata": {
    "collapsed": false
   },
   "outputs": [
    {
     "ename": "KeyboardInterrupt",
     "evalue": "",
     "output_type": "error",
     "traceback": [
      "\u001b[1;31m---------------------------------------------------------------------------\u001b[0m",
      "\u001b[1;31mKeyboardInterrupt\u001b[0m                         Traceback (most recent call last)",
      "\u001b[1;32m<ipython-input-60-d69c559ba816>\u001b[0m in \u001b[0;36m<module>\u001b[1;34m()\u001b[0m\n\u001b[0;32m      4\u001b[0m             \u001b[0mclear_line_1\u001b[0m\u001b[1;33m(\u001b[0m\u001b[1;33m)\u001b[0m\u001b[1;33m\u001b[0m\u001b[0m\n\u001b[0;32m      5\u001b[0m             \u001b[0mprint_line_1\u001b[0m\u001b[1;33m(\u001b[0m\u001b[0mi\u001b[0m\u001b[1;33m)\u001b[0m\u001b[1;33m\u001b[0m\u001b[0m\n\u001b[1;32m----> 6\u001b[1;33m             \u001b[0msleep\u001b[0m\u001b[1;33m(\u001b[0m\u001b[1;36m1\u001b[0m\u001b[1;33m)\u001b[0m\u001b[1;33m\u001b[0m\u001b[0m\n\u001b[0m",
      "\u001b[1;31mKeyboardInterrupt\u001b[0m: "
     ]
    }
   ],
   "source": [
    "while(1):\n",
    "        ip_list = get_ips()\n",
    "        for i in ip_list :\n",
    "            clear_line_1()\n",
    "            print_line_1(i)\n",
    "            sleep(1)"
   ]
  },
  {
   "cell_type": "code",
   "execution_count": 104,
   "metadata": {
    "collapsed": false
   },
   "outputs": [],
   "source": [
    "def print_msg(msg):\n",
    "    if type(msg) == str:\n",
    "        for p in range(len(msg)):\n",
    "            if p < 16:\n",
    "                write_lcdcmd(0x80 + p)\n",
    "                write_data(ord(msg[p]))\n",
    "            elif 15 < p < 32:\n",
    "                write_lcdcmd(0xc0 + p - 16)\n",
    "                write_data(ord(msg[p]))\n",
    "            else:\n",
    "                print(\"error: it's out of bound\")\n",
    "                break"
   ]
  },
  {
   "cell_type": "code",
   "execution_count": 109,
   "metadata": {
    "collapsed": false
   },
   "outputs": [],
   "source": [
    "ip_list = get_ips()\n",
    "clear_line_1()\n",
    "clear_line_2()\n",
    "print_msg(';'.join(ip_list))"
   ]
  },
  {
   "cell_type": "markdown",
   "metadata": {},
   "source": [
    "### 練習 將以上所用function改寫成class, 並讓開機時候將 hostname 與 ip顯示在lcd上\n",
    "### hint: $sudo nano /etc/rc.local and add python script before exit() \n"
   ]
  },
  {
   "cell_type": "code",
   "execution_count": 6,
   "metadata": {
    "collapsed": true
   },
   "outputs": [],
   "source": [
    "\n",
    "\n"
   ]
  },
  {
   "cell_type": "code",
   "execution_count": 7,
   "metadata": {
    "collapsed": false
   },
   "outputs": [
    {
     "data": {
      "text/plain": [
       "'rpi'"
      ]
     },
     "execution_count": 7,
     "metadata": {},
     "output_type": "execute_result"
    }
   ],
   "source": []
  },
  {
   "cell_type": "code",
   "execution_count": null,
   "metadata": {
    "collapsed": true
   },
   "outputs": [],
   "source": []
  }
 ],
 "metadata": {
  "kernelspec": {
   "display_name": "Python 3",
   "language": "python",
   "name": "python3"
  },
  "language_info": {
   "codemirror_mode": {
    "name": "ipython",
    "version": 3
   },
   "file_extension": ".py",
   "mimetype": "text/x-python",
   "name": "python",
   "nbconvert_exporter": "python",
   "pygments_lexer": "ipython3",
   "version": "3.4.2"
  }
 },
 "nbformat": 4,
 "nbformat_minor": 0
}
