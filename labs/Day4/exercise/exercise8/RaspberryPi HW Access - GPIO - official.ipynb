{
 "cells": [
  {
   "cell_type": "markdown",
   "metadata": {},
   "source": [
    "# (header)"
   ]
  },
  {
   "cell_type": "markdown",
   "metadata": {},
   "source": [
    "## GPIO"
   ]
  },
  {
   "cell_type": "markdown",
   "metadata": {},
   "source": [
    "### GPIO OUTPUT to LED"
   ]
  },
  {
   "cell_type": "code",
   "execution_count": null,
   "metadata": {
    "collapsed": false
   },
   "outputs": [],
   "source": [
    "from RPi import GPIO\n",
    "#Pin numbering LED01 Pin 13 (GPIO 27) ; LED02 Pin 15 (GPIO 22)\n",
    "GPIO.setmode(GPIO.BOARD)\n",
    "LED01 = 13\n",
    "LED02 = 15\n",
    "#To input(read) \n",
    "GPIO.setup(LED01,GPIO.OUT) ##LED01 \n",
    "GPIO.setup(LED02,GPIO.OUT) ##LED02"
   ]
  },
  {
   "cell_type": "code",
   "execution_count": null,
   "metadata": {
    "collapsed": true
   },
   "outputs": [],
   "source": [
    "GPIO.output(LED01,GPIO.HIGH) #state can be 0 / GPIO.LOW / False or 1 / GPIO.HIGH / True.\n",
    "GPIO.output(LED02,GPIO.HIGH)"
   ]
  },
  {
   "cell_type": "markdown",
   "metadata": {},
   "source": [
    "#### blanking LED01"
   ]
  },
  {
   "cell_type": "code",
   "execution_count": null,
   "metadata": {
    "collapsed": false
   },
   "outputs": [],
   "source": [
    "from time import sleep\n",
    "loops = 10\n",
    "for i in range(loops):\n",
    "    GPIO.output(LED01,GPIO.HIGH)\n",
    "    sleep(0.3)\n",
    "    GPIO.output(LED01,GPIO.LOW)\n",
    "    sleep(0.3)"
   ]
  },
  {
   "cell_type": "markdown",
   "metadata": {},
   "source": [
    "#### abstracting LED ON/OFF"
   ]
  },
  {
   "cell_type": "code",
   "execution_count": null,
   "metadata": {
    "collapsed": false
   },
   "outputs": [],
   "source": [
    "import RPi.GPIO as GPIO\n",
    "\n",
    "from time import sleep\n",
    "GPIO.cleanup() \n",
    "GPIO.setmode(GPIO.BOARD)\n",
    "\n",
    "class RPI_LED:\n",
    "    def __init__(self,pin):\n",
    "        self.pin = pin\n",
    "        GPIO.setup(pin,GPIO.OUT)\n",
    "        self.off()\n",
    "    def on(self):\n",
    "         GPIO.output(self.pin,GPIO.HIGH)\n",
    "    def off(self):\n",
    "         GPIO.output(self.pin,GPIO.LOW)\n",
    "    def blinking(self):\n",
    "        self.on()\n",
    "        sleep(0.4)\n",
    "        self.off()\n",
    "            \n",
    "\n",
    "        \n",
    "\n",
    "   "
   ]
  },
  {
   "cell_type": "code",
   "execution_count": null,
   "metadata": {
    "collapsed": false
   },
   "outputs": [],
   "source": [
    "led_01 = RPI_LED(13)\n",
    "led_01.blinking()\n",
    "led_02 = RPI_LED(15)\n",
    "led_02.blinking()"
   ]
  },
  {
   "cell_type": "code",
   "execution_count": null,
   "metadata": {
    "collapsed": false
   },
   "outputs": [],
   "source": [
    "import threading\n",
    "from threading import Thread\n",
    "loops = 20\n",
    "for i in range(loops):\n",
    "    Thread(target=led_01.blinking()).start()\n",
    "    Thread(target=led_02.blinking()).start()"
   ]
  },
  {
   "cell_type": "code",
   "execution_count": null,
   "metadata": {
    "collapsed": true
   },
   "outputs": [],
   "source": [
    "import threading\n",
    "from threading import Thread\n",
    "loops = 5\n",
    "for i in range(loops):\n",
    "    Thread(target=led_01.on()).start()\n",
    "    Thread(target=led_02.on()).start()\n",
    "    sleep(0.4)\n",
    "    Thread(target=led_01.off()).start()\n",
    "    Thread(target=led_02.off()).start()\n",
    "    sleep(0.4)\n",
    "    "
   ]
  },
  {
   "cell_type": "code",
   "execution_count": 3,
   "metadata": {
    "collapsed": false
   },
   "outputs": [],
   "source": [
    "import RPi.GPIO as GPIO\n",
    "from time import sleep\n",
    "GPIO.cleanup()\n",
    "pins = [13,15]\n",
    "GPIO.setmode(GPIO.BOARD)\n",
    "GPIO.setup(pins,GPIO.OUT)\n",
    "led_01 = GPIO.PWM(pins[0], 100)\n",
    "led_02 = GPIO.PWM(pins[1], 100)\n",
    "led_01.start(100)\n",
    "led_02.start(0)\n",
    "for i in range(2):\n",
    "    for i in range(0,101):      # 101 because it stops when it finishes 100\n",
    "            led_01.ChangeDutyCycle(100-i)  \n",
    "            led_02.ChangeDutyCycle(i)  \n",
    "            sleep(0.03)  \n",
    "    for i in range(100,-1,-1):\n",
    "            led_01.ChangeDutyCycle(100-i)   \n",
    "            led_02.ChangeDutyCycle(i)\n",
    "            sleep(0.03)\n",
    "led_01.stop()\n",
    "led_02.stop()"
   ]
  },
  {
   "cell_type": "code",
   "execution_count": null,
   "metadata": {
    "collapsed": true
   },
   "outputs": [],
   "source": []
  },
  {
   "cell_type": "markdown",
   "metadata": {},
   "source": [
    "### GPIO input to read buttons"
   ]
  },
  {
   "cell_type": "code",
   "execution_count": 96,
   "metadata": {
    "collapsed": false
   },
   "outputs": [],
   "source": [
    "import RPi.GPIO as GPIO\n",
    "\n",
    "#Pin numbering\n",
    "## Buttons鍵 SW01 Pin 16 (GPIO23) ; SW02 Pin 18 (GPIO24)\n",
    "GPIO.setmode(GPIO.BCM)\n",
    "#To input(read) \n",
    "GPIO.setup(23,GPIO.IN,pull_up_down = GPIO.PUD_DOWN) ##left sw01 \n",
    "GPIO.setup(24,GPIO.IN) ##right sw02"
   ]
  },
  {
   "cell_type": "markdown",
   "metadata": {},
   "source": [
    "### POLLING"
   ]
  },
  {
   "cell_type": "code",
   "execution_count": null,
   "metadata": {
    "collapsed": true
   },
   "outputs": [],
   "source": [
    "# read SW BUTTON\n",
    "GPIO.input(23) # 0 is pressed 1 is unaaapressed"
   ]
  },
  {
   "cell_type": "code",
   "execution_count": 6,
   "metadata": {
    "collapsed": false
   },
   "outputs": [
    {
     "name": "stdout",
     "output_type": "stream",
     "text": [
      "Input was not pressed\n"
     ]
    }
   ],
   "source": [
    "if (GPIO.input(23) == GPIO.HIGH):\n",
    "    print('Input was not pressed')\n",
    "else:\n",
    "    print('Input was pressed')"
   ]
  },
  {
   "cell_type": "markdown",
   "metadata": {
    "collapsed": true
   },
   "source": [
    "### INTERRUPT and CALLBACK\n"
   ]
  },
  {
   "cell_type": "code",
   "execution_count": 2,
   "metadata": {
    "collapsed": false
   },
   "outputs": [
    {
     "name": "stderr",
     "output_type": "stream",
     "text": [
      "/usr/local/lib/python3.4/dist-packages/ipykernel/__main__.py:2: RuntimeWarning: No channels have been set up yet - nothing to clean up!  Try cleaning up at the end of your program instead!\n",
      "  from ipykernel import kernelapp as app\n"
     ]
    },
    {
     "data": {
      "text/plain": [
       "23"
      ]
     },
     "execution_count": 2,
     "metadata": {},
     "output_type": "execute_result"
    }
   ],
   "source": [
    "# Wait until the SW button is pressed\n",
    "import RPi.GPIO as GPIO\n",
    "GPIO.cleanup()\n",
    "GPIO.setmode(GPIO.BCM)\n",
    "GPIO.setup(23,GPIO.IN,pull_up_down = GPIO.PUD_DOWN) ##left sw01 \n",
    "GPIO.wait_for_edge(23, GPIO.RISING) #block python execution of your program until an edge is detected - "
   ]
  },
  {
   "cell_type": "code",
   "execution_count": 12,
   "metadata": {
    "collapsed": false
   },
   "outputs": [
    {
     "name": "stdout",
     "output_type": "stream",
     "text": [
      "5 SECS timeout occurred\n"
     ]
    }
   ],
   "source": [
    "# Wait in a timly fashion\n",
    "\n",
    "import RPi.GPIO as GPIO\n",
    "GPIO.cleanup()\n",
    "GPIO.setmode(GPIO.BCM)\n",
    "GPIO.setup(23,GPIO.IN,pull_up_down = GPIO.PUD_DOWN) ##left sw01 \n",
    "channel = GPIO.wait_for_edge(23, GPIO.RISING, timeout=5000)\n",
    "if channel is None:\n",
    "    print('5 SECS timeout occurred')\n",
    "else:\n",
    "    print('Edge detected on channel', channel)"
   ]
  },
  {
   "cell_type": "code",
   "execution_count": 13,
   "metadata": {
    "collapsed": false
   },
   "outputs": [
    {
     "name": "stdout",
     "output_type": "stream",
     "text": [
      "i: 0\n",
      "i: 1\n",
      "i: 2\n",
      "i: 3\n",
      "i: 4\n",
      "i: 5\n",
      "i: 6\n",
      "i: 7\n",
      "i: 8\n",
      "i: 9\n",
      "i: 10\n"
     ]
    }
   ],
   "source": [
    "# did event happen - was SW01 ever pressed?  \n",
    "\n",
    "import RPi.GPIO as GPIO\n",
    "from time import sleep\n",
    "\n",
    "def print_some_nums():\n",
    "    for i in range(11):\n",
    "        print(\"i:\",i)\n",
    "        sleep(0.5)\n",
    "\n",
    "GPIO.cleanup()\n",
    "GPIO.setmode(GPIO.BCM)\n",
    "GPIO.setup(23,GPIO.IN,pull_up_down = GPIO.PUD_DOWN) ##left sw01 \n",
    "GPIO.add_event_detect(23, GPIO.RISING)  # add rising edge detection on a channel\n",
    "print_some_nums()\n",
    "if GPIO.event_detected(23):\n",
    "    print('Button pressed')"
   ]
  },
  {
   "cell_type": "code",
   "execution_count": 76,
   "metadata": {
    "collapsed": true
   },
   "outputs": [],
   "source": [
    "def callbackFun_one(channel):\n",
    "    print('Edge detected on channel %s'%channel)\n",
    "    print('Callback func one')\n",
    "\n",
    "def callbackFun_two(channel):\n",
    "    print('Edge detected on channel %s'%channel)\n",
    "    print('Callback func two')"
   ]
  },
  {
   "cell_type": "code",
   "execution_count": 84,
   "metadata": {
    "collapsed": false,
    "scrolled": true
   },
   "outputs": [
    {
     "name": "stdout",
     "output_type": "stream",
     "text": [
      "Edge detected on channel 23\n",
      "Callback func one\n",
      "Edge detected on channel 23\n",
      "Callback func one\n",
      "Edge detected on channel 23\n",
      "Callback func one\n",
      "Edge detected on channel 23\n",
      "Callback func one\n",
      "Edge detected on channel 23\n",
      "Callback func one\n",
      "Edge detected on channel 23\n",
      "Callback func one\n"
     ]
    }
   ],
   "source": [
    "GPIO.remove_event_detect(23)\n",
    "GPIO.cleanup()\n",
    "GPIO.setmode(GPIO.BCM)\n",
    "GPIO.setup(23,GPIO.IN) ##left sw01 \n",
    "GPIO.add_event_detect(23, GPIO.RISING)\n",
    "GPIO.add_event_callback(23, callbackFun_one)"
   ]
  },
  {
   "cell_type": "code",
   "execution_count": 94,
   "metadata": {
    "collapsed": true
   },
   "outputs": [],
   "source": [
    "GPIO.remove_event_detect(23)\n",
    "GPIO.remove_event_detect(24)\n"
   ]
  },
  {
   "cell_type": "markdown",
   "metadata": {},
   "source": [
    "### Switch debounce\n",
    "\n",
    "You may notice that the callbacks are called more than once for each button press. This is as a result of what is known as 'switch bounce'. There are two ways of dealing with switch bounce:\n",
    "add a 0.1uF capacitor across your switch.\n",
    "software debouncing\n",
    "a combination of both\n",
    "To debounce using software, add the bouncetime= parameter to a function where you specify a callback function. Bouncetime should be specified in milliseconds. "
   ]
  },
  {
   "cell_type": "code",
   "execution_count": 95,
   "metadata": {
    "collapsed": false
   },
   "outputs": [
    {
     "name": "stdout",
     "output_type": "stream",
     "text": [
      "Edge detected on channel 23\n",
      "Callback func one\n",
      "Edge detected on channel 23\n",
      "Callback func one\n",
      "Edge detected on channel 24\n",
      "Callback func two\n",
      "Edge detected on channel 24\n",
      "Callback func two\n",
      "Edge detected on channel 24\n",
      "Callback func two\n",
      "Edge detected on channel 24\n",
      "Callback func two\n",
      "Edge detected on channel 23\n",
      "Callback func one\n",
      "Edge detected on channel 24\n",
      "Callback func two\n",
      "Edge detected on channel 24\n",
      "Callback func two\n",
      "Edge detected on channel 24\n",
      "Callback func two\n",
      "Edge detected on channel 24\n",
      "Callback func two\n"
     ]
    }
   ],
   "source": [
    "\n",
    "GPIO.cleanup()\n",
    "GPIO.setmode(GPIO.BCM)\n",
    "GPIO.setup(23,GPIO.IN) ##left sw01 \n",
    "GPIO.setup(24,GPIO.IN) ##left sw02\n",
    "GPIO.add_event_detect(23, GPIO.RISING, callback=callbackFun_one, bouncetime=50)\n",
    "GPIO.add_event_detect(24, GPIO.RISING, callback=callbackFun_two)"
   ]
  },
  {
   "cell_type": "code",
   "execution_count": null,
   "metadata": {
    "collapsed": true
   },
   "outputs": [],
   "source": []
  },
  {
   "cell_type": "code",
   "execution_count": null,
   "metadata": {
    "collapsed": true
   },
   "outputs": [],
   "source": []
  }
 ],
 "metadata": {
  "kernelspec": {
   "display_name": "Python 3",
   "language": "python",
   "name": "python3"
  },
  "language_info": {
   "codemirror_mode": {
    "name": "ipython",
    "version": 3
   },
   "file_extension": ".py",
   "mimetype": "text/x-python",
   "name": "python",
   "nbconvert_exporter": "python",
   "pygments_lexer": "ipython3",
   "version": "3.5.1"
  }
 },
 "nbformat": 4,
 "nbformat_minor": 0
}
